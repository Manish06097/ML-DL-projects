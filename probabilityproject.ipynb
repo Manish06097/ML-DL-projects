{
  "nbformat": 4,
  "nbformat_minor": 0,
  "metadata": {
    "kernelspec": {
      "language": "python",
      "display_name": "Python 3",
      "name": "python3"
    },
    "language_info": {
      "pygments_lexer": "ipython3",
      "nbconvert_exporter": "python",
      "version": "3.6.4",
      "file_extension": ".py",
      "codemirror_mode": {
        "name": "ipython",
        "version": 3
      },
      "name": "python",
      "mimetype": "text/x-python"
    },
    "colab": {
      "name": "probabilityproject.ipynb",
      "provenance": [],
      "collapsed_sections": [
        "hmBhK7-JN7gF",
        "P9-wgL6oN7gM",
        "ugY12hjrN7gM",
        "V-2-lT0xN7gN",
        "VMOIBIu6N7gN",
        "lj25R8FIN7gO",
        "MIDCFOjFN7gP",
        "ELDTsIuON7gR",
        "l-rGg1hSN7gR",
        "b_smqlicN7gS",
        "s-cVlwgeN7gS",
        "RtoZqrdBN7gS",
        "UGAhj80PN7gT",
        "VGH5AXFnN7gT",
        "4w85bEcnN7gT"
      ],
      "include_colab_link": true
    }
  },
  "cells": [
    {
      "cell_type": "markdown",
      "metadata": {
        "id": "view-in-github",
        "colab_type": "text"
      },
      "source": [
        "<a href=\"https://colab.research.google.com/github/Manish06097/ML-DL-projects/blob/main/probabilityproject.ipynb\" target=\"_parent\"><img src=\"https://colab.research.google.com/assets/colab-badge.svg\" alt=\"Open In Colab\"/></a>"
      ]
    },
    {
      "cell_type": "markdown",
      "metadata": {
        "id": "-RlQf9HCN7f9"
      },
      "source": [
        "# 911 Emergency Calls Analysis"
      ]
    },
    {
      "cell_type": "markdown",
      "metadata": {
        "id": "n5eAG91knBQq"
      },
      "source": [
        "# Manish Agarwal   Jayesh Khambat  \n",
        "# e20cse357      e20cse337         "
      ]
    },
    {
      "cell_type": "markdown",
      "metadata": {
        "id": "P4XGO6WxN7gB"
      },
      "source": [
        "# Import Libraries"
      ]
    },
    {
      "cell_type": "code",
      "metadata": {
        "_uuid": "8f2839f25d086af736a60e9eeb907d3b93b6e0e5",
        "_cell_guid": "b1076dfc-b9ad-4769-8c92-a6c4dae69d19",
        "trusted": true,
        "colab": {
          "base_uri": "https://localhost:8080/"
        },
        "id": "GDmCY1dFN7gB",
        "outputId": "2e9c2df3-2588-46e9-f956-4c1bdf4c092f"
      },
      "source": [
        "import numpy as np\n",
        "import pandas as pd\n",
        "import matplotlib\n",
        "import matplotlib.pyplot as plt\n",
        "import seaborn as sns\n",
        "\n",
        "# Print versions of libraries\n",
        "print(f\"Numpy version : Numpy {np.__version__}\")\n",
        "print(f\"Pandas version : Pandas {pd.__version__}\")\n",
        "print(f\"Matplotlib version : Matplotlib {matplotlib.__version__}\")\n",
        "print(f\"Seaborn version : Seaborn {sns.__version__}\")\n",
        "\n",
        "# Magic Functions for In-Notebook Display\n",
        "%matplotlib inline\n",
        "\n",
        "# Setting seabon style\n",
        "sns.set(style='darkgrid')\n",
        "\n",
        "!pip install opendatasets --upgrade\n",
        "#recreatorsky\n",
        "#21647cfee05501f935b2cba44db7d0d1\n",
        "import opendatasets as od\n",
        "od.download('https://www.kaggle.com/mchirico/montcoalert')\n",
        "df= pd.read_csv('/content/montcoalert/911.csv')\n"
      ],
      "execution_count": null,
      "outputs": [
        {
          "output_type": "stream",
          "name": "stdout",
          "text": [
            "Numpy version : Numpy 1.19.5\n",
            "Pandas version : Pandas 1.1.5\n",
            "Matplotlib version : Matplotlib 3.2.2\n",
            "Seaborn version : Seaborn 0.11.2\n",
            "Collecting opendatasets\n",
            "  Downloading opendatasets-0.1.20-py3-none-any.whl (14 kB)\n",
            "Requirement already satisfied: tqdm in /usr/local/lib/python3.7/dist-packages (from opendatasets) (4.62.3)\n",
            "Requirement already satisfied: click in /usr/local/lib/python3.7/dist-packages (from opendatasets) (7.1.2)\n",
            "Requirement already satisfied: kaggle in /usr/local/lib/python3.7/dist-packages (from opendatasets) (1.5.12)\n",
            "Requirement already satisfied: requests in /usr/local/lib/python3.7/dist-packages (from kaggle->opendatasets) (2.23.0)\n",
            "Requirement already satisfied: python-dateutil in /usr/local/lib/python3.7/dist-packages (from kaggle->opendatasets) (2.8.2)\n",
            "Requirement already satisfied: certifi in /usr/local/lib/python3.7/dist-packages (from kaggle->opendatasets) (2021.10.8)\n",
            "Requirement already satisfied: urllib3 in /usr/local/lib/python3.7/dist-packages (from kaggle->opendatasets) (1.24.3)\n",
            "Requirement already satisfied: python-slugify in /usr/local/lib/python3.7/dist-packages (from kaggle->opendatasets) (5.0.2)\n",
            "Requirement already satisfied: six>=1.10 in /usr/local/lib/python3.7/dist-packages (from kaggle->opendatasets) (1.15.0)\n",
            "Requirement already satisfied: text-unidecode>=1.3 in /usr/local/lib/python3.7/dist-packages (from python-slugify->kaggle->opendatasets) (1.3)\n",
            "Requirement already satisfied: chardet<4,>=3.0.2 in /usr/local/lib/python3.7/dist-packages (from requests->kaggle->opendatasets) (3.0.4)\n",
            "Requirement already satisfied: idna<3,>=2.5 in /usr/local/lib/python3.7/dist-packages (from requests->kaggle->opendatasets) (2.10)\n",
            "Installing collected packages: opendatasets\n",
            "Successfully installed opendatasets-0.1.20\n",
            "Please provide your Kaggle credentials to download this dataset. Learn more: http://bit.ly/kaggle-creds\n",
            "Your Kaggle username: recreatorsky\n",
            "Your Kaggle Key: ··········\n",
            "Downloading montcoalert.zip to ./montcoalert\n"
          ]
        },
        {
          "output_type": "stream",
          "name": "stderr",
          "text": [
            "100%|██████████| 24.2M/24.2M [00:01<00:00, 17.2MB/s]\n"
          ]
        },
        {
          "output_type": "stream",
          "name": "stdout",
          "text": [
            "\n"
          ]
        }
      ]
    },
    {
      "cell_type": "markdown",
      "metadata": {
        "id": "nMKmeNKsN7gC"
      },
      "source": [
        "## Loading Data"
      ]
    },
    {
      "cell_type": "code",
      "metadata": {
        "_uuid": "d629ff2d2480ee46fbb7e2d37f6b5fab8052498a",
        "_cell_guid": "79c7e3d0-c299-4dcb-8224-4455121ee9b0",
        "trusted": true,
        "id": "FN-Zx4joN7gC"
      },
      "source": [
        "data= pd.read_csv('/content/montcoalert/911.csv')"
      ],
      "execution_count": null,
      "outputs": []
    },
    {
      "cell_type": "code",
      "metadata": {
        "trusted": true,
        "colab": {
          "base_uri": "https://localhost:8080/",
          "height": 521
        },
        "id": "iZeL04d5N7gC",
        "outputId": "fc90a0dd-6993-4ada-882e-6e5dfeaaca07"
      },
      "source": [
        "data.head(5)"
      ],
      "execution_count": null,
      "outputs": [
        {
          "output_type": "execute_result",
          "data": {
            "text/html": [
              "<div>\n",
              "<style scoped>\n",
              "    .dataframe tbody tr th:only-of-type {\n",
              "        vertical-align: middle;\n",
              "    }\n",
              "\n",
              "    .dataframe tbody tr th {\n",
              "        vertical-align: top;\n",
              "    }\n",
              "\n",
              "    .dataframe thead th {\n",
              "        text-align: right;\n",
              "    }\n",
              "</style>\n",
              "<table border=\"1\" class=\"dataframe\">\n",
              "  <thead>\n",
              "    <tr style=\"text-align: right;\">\n",
              "      <th></th>\n",
              "      <th>lat</th>\n",
              "      <th>lng</th>\n",
              "      <th>desc</th>\n",
              "      <th>zip</th>\n",
              "      <th>title</th>\n",
              "      <th>timeStamp</th>\n",
              "      <th>twp</th>\n",
              "      <th>addr</th>\n",
              "      <th>e</th>\n",
              "    </tr>\n",
              "  </thead>\n",
              "  <tbody>\n",
              "    <tr>\n",
              "      <th>0</th>\n",
              "      <td>40.297876</td>\n",
              "      <td>-75.581294</td>\n",
              "      <td>REINDEER CT &amp; DEAD END;  NEW HANOVER; Station ...</td>\n",
              "      <td>19525.0</td>\n",
              "      <td>EMS: BACK PAINS/INJURY</td>\n",
              "      <td>2015-12-10 17:10:52</td>\n",
              "      <td>NEW HANOVER</td>\n",
              "      <td>REINDEER CT &amp; DEAD END</td>\n",
              "      <td>1</td>\n",
              "    </tr>\n",
              "    <tr>\n",
              "      <th>1</th>\n",
              "      <td>40.258061</td>\n",
              "      <td>-75.264680</td>\n",
              "      <td>BRIAR PATH &amp; WHITEMARSH LN;  HATFIELD TOWNSHIP...</td>\n",
              "      <td>19446.0</td>\n",
              "      <td>EMS: DIABETIC EMERGENCY</td>\n",
              "      <td>2015-12-10 17:29:21</td>\n",
              "      <td>HATFIELD TOWNSHIP</td>\n",
              "      <td>BRIAR PATH &amp; WHITEMARSH LN</td>\n",
              "      <td>1</td>\n",
              "    </tr>\n",
              "    <tr>\n",
              "      <th>2</th>\n",
              "      <td>40.121182</td>\n",
              "      <td>-75.351975</td>\n",
              "      <td>HAWS AVE; NORRISTOWN; 2015-12-10 @ 14:39:21-St...</td>\n",
              "      <td>19401.0</td>\n",
              "      <td>Fire: GAS-ODOR/LEAK</td>\n",
              "      <td>2015-12-10 14:39:21</td>\n",
              "      <td>NORRISTOWN</td>\n",
              "      <td>HAWS AVE</td>\n",
              "      <td>1</td>\n",
              "    </tr>\n",
              "    <tr>\n",
              "      <th>3</th>\n",
              "      <td>40.116153</td>\n",
              "      <td>-75.343513</td>\n",
              "      <td>AIRY ST &amp; SWEDE ST;  NORRISTOWN; Station 308A;...</td>\n",
              "      <td>19401.0</td>\n",
              "      <td>EMS: CARDIAC EMERGENCY</td>\n",
              "      <td>2015-12-10 16:47:36</td>\n",
              "      <td>NORRISTOWN</td>\n",
              "      <td>AIRY ST &amp; SWEDE ST</td>\n",
              "      <td>1</td>\n",
              "    </tr>\n",
              "    <tr>\n",
              "      <th>4</th>\n",
              "      <td>40.251492</td>\n",
              "      <td>-75.603350</td>\n",
              "      <td>CHERRYWOOD CT &amp; DEAD END;  LOWER POTTSGROVE; S...</td>\n",
              "      <td>NaN</td>\n",
              "      <td>EMS: DIZZINESS</td>\n",
              "      <td>2015-12-10 16:56:52</td>\n",
              "      <td>LOWER POTTSGROVE</td>\n",
              "      <td>CHERRYWOOD CT &amp; DEAD END</td>\n",
              "      <td>1</td>\n",
              "    </tr>\n",
              "  </tbody>\n",
              "</table>\n",
              "</div>"
            ],
            "text/plain": [
              "         lat        lng  ...                        addr  e\n",
              "0  40.297876 -75.581294  ...      REINDEER CT & DEAD END  1\n",
              "1  40.258061 -75.264680  ...  BRIAR PATH & WHITEMARSH LN  1\n",
              "2  40.121182 -75.351975  ...                    HAWS AVE  1\n",
              "3  40.116153 -75.343513  ...          AIRY ST & SWEDE ST  1\n",
              "4  40.251492 -75.603350  ...    CHERRYWOOD CT & DEAD END  1\n",
              "\n",
              "[5 rows x 9 columns]"
            ]
          },
          "metadata": {},
          "execution_count": 11
        }
      ]
    },
    {
      "cell_type": "markdown",
      "metadata": {
        "id": "OZtCN_jBN7gC"
      },
      "source": [
        "#Data Understanding and Cleaning"
      ]
    },
    {
      "cell_type": "code",
      "metadata": {
        "trusted": true,
        "colab": {
          "base_uri": "https://localhost:8080/"
        },
        "id": "jPUA1veMN7gC",
        "outputId": "3794ffe2-29c8-4dd2-eb05-30d2ca88dbeb"
      },
      "source": [
        "data.shape"
      ],
      "execution_count": null,
      "outputs": [
        {
          "output_type": "execute_result",
          "data": {
            "text/plain": [
              "(663522, 16)"
            ]
          },
          "metadata": {},
          "execution_count": 76
        }
      ]
    },
    {
      "cell_type": "markdown",
      "metadata": {
        "id": "E4_b28KoN7gD"
      },
      "source": [
        " Dataset comprises of 631339 observations and 9 fields."
      ]
    },
    {
      "cell_type": "markdown",
      "metadata": {
        "id": "RzqaKu-4N7gD"
      },
      "source": [
        "#### It is also a good practice to know the columns and their corresponding data types,along with finding whether they contain null values or not."
      ]
    },
    {
      "cell_type": "code",
      "metadata": {
        "trusted": true,
        "colab": {
          "base_uri": "https://localhost:8080/"
        },
        "id": "i7VwStGQN7gD",
        "outputId": "e21c5ef8-989d-4ac5-f4bd-e580f55da9d7"
      },
      "source": [
        "data.info()"
      ],
      "execution_count": null,
      "outputs": [
        {
          "output_type": "stream",
          "name": "stdout",
          "text": [
            "<class 'pandas.core.frame.DataFrame'>\n",
            "RangeIndex: 663522 entries, 0 to 663521\n",
            "Data columns (total 16 columns):\n",
            " #   Column           Non-Null Count   Dtype         \n",
            "---  ------           --------------   -----         \n",
            " 0   lat              663522 non-null  float64       \n",
            " 1   lng              663522 non-null  float64       \n",
            " 2   desc             663522 non-null  object        \n",
            " 3   zip              583323 non-null  float64       \n",
            " 4   title            663522 non-null  object        \n",
            " 5   timeStamp        663522 non-null  datetime64[ns]\n",
            " 6   twp              663229 non-null  object        \n",
            " 7   addr             663522 non-null  object        \n",
            " 8   Hour             663522 non-null  int64         \n",
            " 9   DayOfWeek        663522 non-null  object        \n",
            " 10  Month            663522 non-null  int64         \n",
            " 11  Year             663522 non-null  int64         \n",
            " 12  Date             663522 non-null  object        \n",
            " 13  station_code     433314 non-null  object        \n",
            " 14  reason_category  663522 non-null  object        \n",
            " 15  reason           663522 non-null  object        \n",
            "dtypes: datetime64[ns](1), float64(3), int64(3), object(9)\n",
            "memory usage: 81.0+ MB\n"
          ]
        }
      ]
    },
    {
      "cell_type": "markdown",
      "metadata": {
        "id": "4jX2zpuUN7gD"
      },
      "source": [
        "<p style=\"font-weight: bold;color:#FF4500\">Highlights</p>\n",
        "\n",
        "* Data has float, integer, and object type values.\n",
        "\n",
        "* Data type of timeStamp is object that need to conver to datetime."
      ]
    },
    {
      "cell_type": "markdown",
      "metadata": {
        "id": "W5M2GC-sN7gD"
      },
      "source": [
        "#### In order to understand our data, we can look at each variable and try to understand their meaning and relevance to this problem."
      ]
    },
    {
      "cell_type": "code",
      "metadata": {
        "trusted": true,
        "colab": {
          "base_uri": "https://localhost:8080/"
        },
        "id": "Fn6MBIstN7gE",
        "outputId": "4cc7e204-ce32-4d09-b5f8-6b894aed797e"
      },
      "source": [
        "data.columns"
      ],
      "execution_count": null,
      "outputs": [
        {
          "output_type": "execute_result",
          "data": {
            "text/plain": [
              "Index(['lat', 'lng', 'desc', 'zip', 'title', 'timeStamp', 'twp', 'addr',\n",
              "       'Hour', 'DayOfWeek', 'Month', 'Year', 'Date', 'station_code',\n",
              "       'reason_category', 'reason'],\n",
              "      dtype='object')"
            ]
          },
          "metadata": {},
          "execution_count": 78
        }
      ]
    },
    {
      "cell_type": "markdown",
      "metadata": {
        "id": "x1l0T_-SN7gE"
      },
      "source": [
        "\n",
        "\n",
        "**In order to understand the data, we need to analysis each fields carefully :**\n",
        "\n",
        "* By observation, we can easily get to know that description field contains three information, address, township and station code seperated by semi-column. Address and township tells us location details from where the call has been made to the which Station. Although this information is also captured in the fields 'lat' & 'lng' and 'zip','twp' & 'addr' This information will help rescue team to take actions quickly. \n",
        "* timeStamp is provides us information on which date and time the emergency call has been made.\n",
        "* title field contain the two kind of information separated by colon. First is Reason Categories :- EMS, Fire and Traffic and other is Reason details.\n",
        "* column 'e' is a dummy variable, whoes value is always 1. So lets drop it as it will not providing us any useful information.\n",
        "* data type of the objects in the timeStamp column is string, so this change this column from strings to DateTime objects."
      ]
    },
    {
      "cell_type": "code",
      "metadata": {
        "trusted": true,
        "id": "CwLmyS9nN7gE"
      },
      "source": [
        ""
      ],
      "execution_count": null,
      "outputs": []
    },
    {
      "cell_type": "code",
      "metadata": {
        "trusted": true,
        "colab": {
          "base_uri": "https://localhost:8080/"
        },
        "id": "VAEP7riYN7gE",
        "outputId": "790b9664-5fd9-460b-f4f0-613f3f121d93"
      },
      "source": [
        "type(data['timeStamp'].iloc[0])"
      ],
      "execution_count": null,
      "outputs": [
        {
          "output_type": "execute_result",
          "data": {
            "text/plain": [
              "pandas._libs.tslibs.timestamps.Timestamp"
            ]
          },
          "metadata": {},
          "execution_count": 84
        }
      ]
    },
    {
      "cell_type": "code",
      "metadata": {
        "trusted": true,
        "id": "6EIqdCnYN7gF"
      },
      "source": [
        "data['timeStamp'] = pd.to_datetime(data['timeStamp'])"
      ],
      "execution_count": null,
      "outputs": []
    },
    {
      "cell_type": "code",
      "metadata": {
        "trusted": true,
        "colab": {
          "base_uri": "https://localhost:8080/"
        },
        "id": "SQJS3u3nN7gF",
        "outputId": "a3c3cf32-4459-44f8-c052-09e63d8f6272"
      },
      "source": [
        "mindate = data[\"timeStamp\"].min()\n",
        "mindate"
      ],
      "execution_count": null,
      "outputs": [
        {
          "output_type": "execute_result",
          "data": {
            "text/plain": [
              "Timestamp('2015-12-10 14:39:21')"
            ]
          },
          "metadata": {},
          "execution_count": 86
        }
      ]
    },
    {
      "cell_type": "code",
      "metadata": {
        "trusted": true,
        "colab": {
          "base_uri": "https://localhost:8080/"
        },
        "id": "pm_6WsCXN7gF",
        "outputId": "aa4a2bcb-d9bc-4f20-a6fe-7cf289a19912"
      },
      "source": [
        "maxdate = data[\"timeStamp\"].max()\n",
        "maxdate"
      ],
      "execution_count": null,
      "outputs": [
        {
          "output_type": "execute_result",
          "data": {
            "text/plain": [
              "Timestamp('2020-07-29 15:54:08')"
            ]
          },
          "metadata": {},
          "execution_count": 87
        }
      ]
    },
    {
      "cell_type": "code",
      "metadata": {
        "trusted": true,
        "colab": {
          "base_uri": "https://localhost:8080/"
        },
        "id": "EokKIP6jN7gF",
        "outputId": "7c7b22cb-7ba6-43bd-c164-15a29abf8115"
      },
      "source": [
        "from dateutil import relativedelta\n",
        "\n",
        "dif = relativedelta.relativedelta(pd.to_datetime(maxdate), pd.to_datetime(mindate))\n",
        "print(\"{} years and {} months\".format(dif.years, dif.months))"
      ],
      "execution_count": null,
      "outputs": [
        {
          "output_type": "stream",
          "name": "stdout",
          "text": [
            "4 years and 7 months\n"
          ]
        }
      ]
    },
    {
      "cell_type": "markdown",
      "metadata": {
        "id": "_bxAcjxYN7gF"
      },
      "source": [
        " So in a 4 years and 4 months of time span from Dec 2015 to April 2020, about 6.3 hundred people called emergency number 911 to get help in Montgomery County, PA."
      ]
    },
    {
      "cell_type": "markdown",
      "metadata": {
        "id": "hmBhK7-JN7gF"
      },
      "source": [
        "#### Now grab specific attributes from a Datetime object "
      ]
    },
    {
      "cell_type": "code",
      "metadata": {
        "trusted": true,
        "colab": {
          "base_uri": "https://localhost:8080/"
        },
        "id": "lcDZTAWDN7gG",
        "outputId": "2012a616-827d-47e0-c5c4-0fd67dac52d3"
      },
      "source": [
        "data['Hour'] = data['timeStamp'].apply(lambda time: time.hour)\n",
        "data['Hour'].head()"
      ],
      "execution_count": null,
      "outputs": [
        {
          "output_type": "execute_result",
          "data": {
            "text/plain": [
              "0    17\n",
              "1    17\n",
              "2    14\n",
              "3    16\n",
              "4    16\n",
              "Name: Hour, dtype: int64"
            ]
          },
          "metadata": {},
          "execution_count": 89
        }
      ]
    },
    {
      "cell_type": "code",
      "metadata": {
        "trusted": true,
        "colab": {
          "base_uri": "https://localhost:8080/"
        },
        "id": "6dw9Edg0N7gG",
        "outputId": "720142ba-4528-4812-d74c-1958484fc648"
      },
      "source": [
        "data['DayOfWeek'] = data['timeStamp'].apply(lambda time: time.dayofweek)\n",
        "data['DayOfWeek'].head()"
      ],
      "execution_count": null,
      "outputs": [
        {
          "output_type": "execute_result",
          "data": {
            "text/plain": [
              "0    3\n",
              "1    3\n",
              "2    3\n",
              "3    3\n",
              "4    3\n",
              "Name: DayOfWeek, dtype: int64"
            ]
          },
          "metadata": {},
          "execution_count": 90
        }
      ]
    },
    {
      "cell_type": "code",
      "metadata": {
        "trusted": true,
        "colab": {
          "base_uri": "https://localhost:8080/"
        },
        "id": "u9Ul8yK4N7gG",
        "outputId": "0d48f67f-0ae9-4775-a301-8a99d5c06c4f"
      },
      "source": [
        "data['Month'] = data['timeStamp'].apply(lambda time: time.month)\n",
        "data['Month'].head()"
      ],
      "execution_count": null,
      "outputs": [
        {
          "output_type": "execute_result",
          "data": {
            "text/plain": [
              "0    12\n",
              "1    12\n",
              "2    12\n",
              "3    12\n",
              "4    12\n",
              "Name: Month, dtype: int64"
            ]
          },
          "metadata": {},
          "execution_count": 91
        }
      ]
    },
    {
      "cell_type": "code",
      "metadata": {
        "trusted": true,
        "colab": {
          "base_uri": "https://localhost:8080/"
        },
        "id": "wcp5jYIEN7gG",
        "outputId": "76910d98-084d-4557-b471-fb11dc3f16ba"
      },
      "source": [
        "data['Year'] = data['timeStamp'].apply(lambda time: time.year)\n",
        "data['Year'].head()"
      ],
      "execution_count": null,
      "outputs": [
        {
          "output_type": "execute_result",
          "data": {
            "text/plain": [
              "0    2015\n",
              "1    2015\n",
              "2    2015\n",
              "3    2015\n",
              "4    2015\n",
              "Name: Year, dtype: int64"
            ]
          },
          "metadata": {},
          "execution_count": 92
        }
      ]
    },
    {
      "cell_type": "code",
      "metadata": {
        "trusted": true,
        "colab": {
          "base_uri": "https://localhost:8080/"
        },
        "id": "HlPQh_gFN7gG",
        "outputId": "0c3cfc0e-9e59-4647-b443-04883bc25582"
      },
      "source": [
        "data['Date'] = data['timeStamp'].apply(lambda time:time.date())\n",
        "data['Date'].head()"
      ],
      "execution_count": null,
      "outputs": [
        {
          "output_type": "execute_result",
          "data": {
            "text/plain": [
              "0    2015-12-10\n",
              "1    2015-12-10\n",
              "2    2015-12-10\n",
              "3    2015-12-10\n",
              "4    2015-12-10\n",
              "Name: Date, dtype: object"
            ]
          },
          "metadata": {},
          "execution_count": 93
        }
      ]
    },
    {
      "cell_type": "markdown",
      "metadata": {
        "id": "vpDvEfcGN7gG"
      },
      "source": [
        "**Notice how the Day of Week is an integer 0-6. We use the map() method with this dictionary to map the actual string names to the day of the week:**"
      ]
    },
    {
      "cell_type": "code",
      "metadata": {
        "trusted": true,
        "id": "Nm7b1j0qN7gG"
      },
      "source": [
        "dmap = {0:'Mon',1:'Tue',2:'Wed',3:'Thu',4:'Fri',5:'Sat',6:'Sun'}"
      ],
      "execution_count": null,
      "outputs": []
    },
    {
      "cell_type": "code",
      "metadata": {
        "trusted": true,
        "colab": {
          "base_uri": "https://localhost:8080/"
        },
        "id": "uvQsyxn7N7gG",
        "outputId": "6bbb098e-a9ae-47fe-8ac5-1e3011cdeb28"
      },
      "source": [
        "data['DayOfWeek'] = data['DayOfWeek'].map(dmap)\n",
        "data['DayOfWeek'].head()"
      ],
      "execution_count": null,
      "outputs": [
        {
          "output_type": "execute_result",
          "data": {
            "text/plain": [
              "0    Thu\n",
              "1    Thu\n",
              "2    Thu\n",
              "3    Thu\n",
              "4    Thu\n",
              "Name: DayOfWeek, dtype: object"
            ]
          },
          "metadata": {},
          "execution_count": 95
        }
      ]
    },
    {
      "cell_type": "code",
      "metadata": {
        "trusted": true,
        "colab": {
          "base_uri": "https://localhost:8080/",
          "height": 345
        },
        "id": "NW7C-wj-N7gH",
        "outputId": "ff8faef9-631a-4371-90ef-3829c3acb8ec"
      },
      "source": [
        "data.head(5)"
      ],
      "execution_count": null,
      "outputs": [
        {
          "output_type": "execute_result",
          "data": {
            "text/html": [
              "<div>\n",
              "<style scoped>\n",
              "    .dataframe tbody tr th:only-of-type {\n",
              "        vertical-align: middle;\n",
              "    }\n",
              "\n",
              "    .dataframe tbody tr th {\n",
              "        vertical-align: top;\n",
              "    }\n",
              "\n",
              "    .dataframe thead th {\n",
              "        text-align: right;\n",
              "    }\n",
              "</style>\n",
              "<table border=\"1\" class=\"dataframe\">\n",
              "  <thead>\n",
              "    <tr style=\"text-align: right;\">\n",
              "      <th></th>\n",
              "      <th>lat</th>\n",
              "      <th>lng</th>\n",
              "      <th>desc</th>\n",
              "      <th>zip</th>\n",
              "      <th>title</th>\n",
              "      <th>timeStamp</th>\n",
              "      <th>twp</th>\n",
              "      <th>addr</th>\n",
              "      <th>Hour</th>\n",
              "      <th>DayOfWeek</th>\n",
              "      <th>Month</th>\n",
              "      <th>Year</th>\n",
              "      <th>Date</th>\n",
              "      <th>station_code</th>\n",
              "      <th>reason_category</th>\n",
              "      <th>reason</th>\n",
              "    </tr>\n",
              "  </thead>\n",
              "  <tbody>\n",
              "    <tr>\n",
              "      <th>0</th>\n",
              "      <td>40.297876</td>\n",
              "      <td>-75.581294</td>\n",
              "      <td>REINDEER CT &amp; DEAD END;  NEW HANOVER; Station 332; 2015-12-10 @ 17:10:52;</td>\n",
              "      <td>19525.0</td>\n",
              "      <td>EMS: BACK PAINS/INJURY</td>\n",
              "      <td>2015-12-10 17:10:52</td>\n",
              "      <td>NEW HANOVER</td>\n",
              "      <td>REINDEER CT &amp; DEAD END</td>\n",
              "      <td>17</td>\n",
              "      <td>Thu</td>\n",
              "      <td>12</td>\n",
              "      <td>2015</td>\n",
              "      <td>2015-12-10</td>\n",
              "      <td>332</td>\n",
              "      <td>EMS</td>\n",
              "      <td>BACK PAINS/INJURY</td>\n",
              "    </tr>\n",
              "    <tr>\n",
              "      <th>1</th>\n",
              "      <td>40.258061</td>\n",
              "      <td>-75.264680</td>\n",
              "      <td>BRIAR PATH &amp; WHITEMARSH LN;  HATFIELD TOWNSHIP; Station 345; 2015-12-10 @ 17:29:21;</td>\n",
              "      <td>19446.0</td>\n",
              "      <td>EMS: DIABETIC EMERGENCY</td>\n",
              "      <td>2015-12-10 17:29:21</td>\n",
              "      <td>HATFIELD TOWNSHIP</td>\n",
              "      <td>BRIAR PATH &amp; WHITEMARSH LN</td>\n",
              "      <td>17</td>\n",
              "      <td>Thu</td>\n",
              "      <td>12</td>\n",
              "      <td>2015</td>\n",
              "      <td>2015-12-10</td>\n",
              "      <td>345</td>\n",
              "      <td>EMS</td>\n",
              "      <td>DIABETIC EMERGENCY</td>\n",
              "    </tr>\n",
              "    <tr>\n",
              "      <th>2</th>\n",
              "      <td>40.121182</td>\n",
              "      <td>-75.351975</td>\n",
              "      <td>HAWS AVE; NORRISTOWN; 2015-12-10 @ 14:39:21-Station:STA27;</td>\n",
              "      <td>19401.0</td>\n",
              "      <td>Fire: GAS-ODOR/LEAK</td>\n",
              "      <td>2015-12-10 14:39:21</td>\n",
              "      <td>NORRISTOWN</td>\n",
              "      <td>HAWS AVE</td>\n",
              "      <td>14</td>\n",
              "      <td>Thu</td>\n",
              "      <td>12</td>\n",
              "      <td>2015</td>\n",
              "      <td>2015-12-10</td>\n",
              "      <td>STA27</td>\n",
              "      <td>Fire</td>\n",
              "      <td>GAS-ODOR/LEAK</td>\n",
              "    </tr>\n",
              "    <tr>\n",
              "      <th>3</th>\n",
              "      <td>40.116153</td>\n",
              "      <td>-75.343513</td>\n",
              "      <td>AIRY ST &amp; SWEDE ST;  NORRISTOWN; Station 308A; 2015-12-10 @ 16:47:36;</td>\n",
              "      <td>19401.0</td>\n",
              "      <td>EMS: CARDIAC EMERGENCY</td>\n",
              "      <td>2015-12-10 16:47:36</td>\n",
              "      <td>NORRISTOWN</td>\n",
              "      <td>AIRY ST &amp; SWEDE ST</td>\n",
              "      <td>16</td>\n",
              "      <td>Thu</td>\n",
              "      <td>12</td>\n",
              "      <td>2015</td>\n",
              "      <td>2015-12-10</td>\n",
              "      <td>308A</td>\n",
              "      <td>EMS</td>\n",
              "      <td>CARDIAC EMERGENCY</td>\n",
              "    </tr>\n",
              "    <tr>\n",
              "      <th>4</th>\n",
              "      <td>40.251492</td>\n",
              "      <td>-75.603350</td>\n",
              "      <td>CHERRYWOOD CT &amp; DEAD END;  LOWER POTTSGROVE; Station 329; 2015-12-10 @ 16:56:52;</td>\n",
              "      <td>NaN</td>\n",
              "      <td>EMS: DIZZINESS</td>\n",
              "      <td>2015-12-10 16:56:52</td>\n",
              "      <td>LOWER POTTSGROVE</td>\n",
              "      <td>CHERRYWOOD CT &amp; DEAD END</td>\n",
              "      <td>16</td>\n",
              "      <td>Thu</td>\n",
              "      <td>12</td>\n",
              "      <td>2015</td>\n",
              "      <td>2015-12-10</td>\n",
              "      <td>329</td>\n",
              "      <td>EMS</td>\n",
              "      <td>DIZZINESS</td>\n",
              "    </tr>\n",
              "  </tbody>\n",
              "</table>\n",
              "</div>"
            ],
            "text/plain": [
              "         lat        lng  ... reason_category               reason\n",
              "0  40.297876 -75.581294  ...  EMS              BACK PAINS/INJURY \n",
              "1  40.258061 -75.264680  ...  EMS              DIABETIC EMERGENCY\n",
              "2  40.121182 -75.351975  ...  Fire             GAS-ODOR/LEAK     \n",
              "3  40.116153 -75.343513  ...  EMS              CARDIAC EMERGENCY \n",
              "4  40.251492 -75.603350  ...  EMS              DIZZINESS         \n",
              "\n",
              "[5 rows x 16 columns]"
            ]
          },
          "metadata": {},
          "execution_count": 96
        }
      ]
    },
    {
      "cell_type": "markdown",
      "metadata": {
        "id": "ihXbVNOHN7gH"
      },
      "source": [
        "## Missing Data"
      ]
    },
    {
      "cell_type": "code",
      "metadata": {
        "trusted": true,
        "colab": {
          "base_uri": "https://localhost:8080/",
          "height": 551
        },
        "id": "GHr50zXNN7gH",
        "outputId": "3d4f09c4-9fb5-4699-c056-c3d9c32118f8"
      },
      "source": [
        "total = data.isnull().sum().sort_values(ascending=False)\n",
        "percent = ((data.isnull().sum()/data.isnull().count())*100).sort_values(ascending=False)\n",
        "missing_data = pd.concat([total, percent], axis=1, keys=['Total', 'Percent'])\n",
        "missing_data.head(20)"
      ],
      "execution_count": null,
      "outputs": [
        {
          "output_type": "execute_result",
          "data": {
            "text/html": [
              "<div>\n",
              "<style scoped>\n",
              "    .dataframe tbody tr th:only-of-type {\n",
              "        vertical-align: middle;\n",
              "    }\n",
              "\n",
              "    .dataframe tbody tr th {\n",
              "        vertical-align: top;\n",
              "    }\n",
              "\n",
              "    .dataframe thead th {\n",
              "        text-align: right;\n",
              "    }\n",
              "</style>\n",
              "<table border=\"1\" class=\"dataframe\">\n",
              "  <thead>\n",
              "    <tr style=\"text-align: right;\">\n",
              "      <th></th>\n",
              "      <th>Total</th>\n",
              "      <th>Percent</th>\n",
              "    </tr>\n",
              "  </thead>\n",
              "  <tbody>\n",
              "    <tr>\n",
              "      <th>station_code</th>\n",
              "      <td>230208</td>\n",
              "      <td>34.694856</td>\n",
              "    </tr>\n",
              "    <tr>\n",
              "      <th>zip</th>\n",
              "      <td>80199</td>\n",
              "      <td>12.086864</td>\n",
              "    </tr>\n",
              "    <tr>\n",
              "      <th>twp</th>\n",
              "      <td>293</td>\n",
              "      <td>0.044158</td>\n",
              "    </tr>\n",
              "    <tr>\n",
              "      <th>reason</th>\n",
              "      <td>0</td>\n",
              "      <td>0.000000</td>\n",
              "    </tr>\n",
              "    <tr>\n",
              "      <th>reason_category</th>\n",
              "      <td>0</td>\n",
              "      <td>0.000000</td>\n",
              "    </tr>\n",
              "    <tr>\n",
              "      <th>Date</th>\n",
              "      <td>0</td>\n",
              "      <td>0.000000</td>\n",
              "    </tr>\n",
              "    <tr>\n",
              "      <th>Year</th>\n",
              "      <td>0</td>\n",
              "      <td>0.000000</td>\n",
              "    </tr>\n",
              "    <tr>\n",
              "      <th>Month</th>\n",
              "      <td>0</td>\n",
              "      <td>0.000000</td>\n",
              "    </tr>\n",
              "    <tr>\n",
              "      <th>DayOfWeek</th>\n",
              "      <td>0</td>\n",
              "      <td>0.000000</td>\n",
              "    </tr>\n",
              "    <tr>\n",
              "      <th>Hour</th>\n",
              "      <td>0</td>\n",
              "      <td>0.000000</td>\n",
              "    </tr>\n",
              "    <tr>\n",
              "      <th>addr</th>\n",
              "      <td>0</td>\n",
              "      <td>0.000000</td>\n",
              "    </tr>\n",
              "    <tr>\n",
              "      <th>timeStamp</th>\n",
              "      <td>0</td>\n",
              "      <td>0.000000</td>\n",
              "    </tr>\n",
              "    <tr>\n",
              "      <th>title</th>\n",
              "      <td>0</td>\n",
              "      <td>0.000000</td>\n",
              "    </tr>\n",
              "    <tr>\n",
              "      <th>desc</th>\n",
              "      <td>0</td>\n",
              "      <td>0.000000</td>\n",
              "    </tr>\n",
              "    <tr>\n",
              "      <th>lng</th>\n",
              "      <td>0</td>\n",
              "      <td>0.000000</td>\n",
              "    </tr>\n",
              "    <tr>\n",
              "      <th>lat</th>\n",
              "      <td>0</td>\n",
              "      <td>0.000000</td>\n",
              "    </tr>\n",
              "  </tbody>\n",
              "</table>\n",
              "</div>"
            ],
            "text/plain": [
              "                  Total    Percent\n",
              "station_code     230208  34.694856\n",
              "zip              80199   12.086864\n",
              "twp              293     0.044158 \n",
              "reason           0       0.000000 \n",
              "reason_category  0       0.000000 \n",
              "Date             0       0.000000 \n",
              "Year             0       0.000000 \n",
              "Month            0       0.000000 \n",
              "DayOfWeek        0       0.000000 \n",
              "Hour             0       0.000000 \n",
              "addr             0       0.000000 \n",
              "timeStamp        0       0.000000 \n",
              "title            0       0.000000 \n",
              "desc             0       0.000000 \n",
              "lng              0       0.000000 \n",
              "lat              0       0.000000 "
            ]
          },
          "metadata": {},
          "execution_count": 97
        }
      ]
    },
    {
      "cell_type": "markdown",
      "metadata": {
        "id": "4ihYqNrZN7gH"
      },
      "source": [
        "<p style=\"font-weight: bold;color:#FF4500\">Highlights</p>\n",
        "\n",
        "* Zip has 80199 missing values which is about 12% of total missing values.\n",
        "* Township has 293 missing values which is only 0.04% of total missing values.\n",
        "* Except Zip and Township, no other field have any missing values."
      ]
    },
    {
      "cell_type": "markdown",
      "metadata": {
        "id": "UW4pAcdmN7gH"
      },
      "source": [
        "Actually there is no ideal way to deal with missing data. However handling missing values is an essential preprocessing task that can drastically deteriorate our model when not done with sufficient care. \n",
        "\n",
        "Before starting handling missing values it is important to identify the missing values and know with which value they are replaced. Possible variations of missing values are: ‘NaN’, ‘NA’, ‘None’, ‘ ’, ‘?’ and others. \n",
        "\n",
        "Once you know a bit more about the missing data you have to decide whether or not you want to keep entries with missing data. This decision should partially depend on **how random missing values are.**"
      ]
    },
    {
      "cell_type": "markdown",
      "metadata": {
        "id": "Kl-GLGYPN7gM"
      },
      "source": [
        "## 'desc' field : Description of the Emergency Call\n",
        "\n",
        "As stated earlier 'desc' field contains three information, Address, Township and Station code seperated by semi-column. So lets seperate them out to get the station code, to which the call has been made."
      ]
    },
    {
      "cell_type": "code",
      "metadata": {
        "trusted": true,
        "colab": {
          "base_uri": "https://localhost:8080/"
        },
        "id": "jfdhvh03N7gM",
        "outputId": "5c6de6a2-bbeb-4c4e-c8b1-f0338687c562"
      },
      "source": [
        "pd.set_option('display.max_colwidth', -1)\n",
        "data['desc'].head()"
      ],
      "execution_count": null,
      "outputs": [
        {
          "output_type": "stream",
          "name": "stderr",
          "text": [
            "/usr/local/lib/python3.7/dist-packages/ipykernel_launcher.py:1: FutureWarning: Passing a negative integer is deprecated in version 1.0 and will not be supported in future version. Instead, use None to not limit the column width.\n",
            "  \"\"\"Entry point for launching an IPython kernel.\n"
          ]
        },
        {
          "output_type": "execute_result",
          "data": {
            "text/plain": [
              "0    REINDEER CT & DEAD END;  NEW HANOVER; Station 332; 2015-12-10 @ 17:10:52;          \n",
              "1    BRIAR PATH & WHITEMARSH LN;  HATFIELD TOWNSHIP; Station 345; 2015-12-10 @ 17:29:21;\n",
              "2    HAWS AVE; NORRISTOWN; 2015-12-10 @ 14:39:21-Station:STA27;                         \n",
              "3    AIRY ST & SWEDE ST;  NORRISTOWN; Station 308A; 2015-12-10 @ 16:47:36;              \n",
              "4    CHERRYWOOD CT & DEAD END;  LOWER POTTSGROVE; Station 329; 2015-12-10 @ 16:56:52;   \n",
              "Name: desc, dtype: object"
            ]
          },
          "metadata": {},
          "execution_count": 98
        }
      ]
    },
    {
      "cell_type": "code",
      "metadata": {
        "trusted": true,
        "colab": {
          "base_uri": "https://localhost:8080/"
        },
        "id": "HvMmka2GN7gM",
        "outputId": "4cddcc2f-85cb-41e2-c8a6-9180d1504569"
      },
      "source": [
        "data['station_code'] = data['desc'].str.split('Station', expand=True)[1].str.split(';', expand=True)[0]\n",
        "data['station_code'] = data['station_code'].str.replace(':', '')\n",
        "data['station_code'].head()"
      ],
      "execution_count": null,
      "outputs": [
        {
          "output_type": "execute_result",
          "data": {
            "text/plain": [
              "0     332 \n",
              "1     345 \n",
              "2    STA27\n",
              "3     308A\n",
              "4     329 \n",
              "Name: station_code, dtype: object"
            ]
          },
          "metadata": {},
          "execution_count": 99
        }
      ]
    },
    {
      "cell_type": "code",
      "metadata": {
        "trusted": true,
        "colab": {
          "base_uri": "https://localhost:8080/"
        },
        "id": "uo6lLn37N7gM",
        "outputId": "67b9eb6f-cc8b-4c1d-f2b9-463696df1ade"
      },
      "source": [
        "data['station_code'] = data['station_code'].str.strip()\n",
        "data['station_code'].head()"
      ],
      "execution_count": null,
      "outputs": [
        {
          "output_type": "execute_result",
          "data": {
            "text/plain": [
              "0    332  \n",
              "1    345  \n",
              "2    STA27\n",
              "3    308A \n",
              "4    329  \n",
              "Name: station_code, dtype: object"
            ]
          },
          "metadata": {},
          "execution_count": 100
        }
      ]
    },
    {
      "cell_type": "markdown",
      "metadata": {
        "id": "P9-wgL6oN7gM"
      },
      "source": [
        "####  In the titles column there are \"Reasons/Departments\" specified before the title code. These are EMS, Fire, and Traffic. So lets split into Reason Category and Reason."
      ]
    },
    {
      "cell_type": "code",
      "metadata": {
        "trusted": true,
        "colab": {
          "base_uri": "https://localhost:8080/"
        },
        "id": "zIUuQWHlN7gM",
        "outputId": "08ade089-5aba-464f-8713-1df973a89af6"
      },
      "source": [
        "data['reason_category'] = data['title'].apply(lambda title: title.split(':')[0])\n",
        "data['reason_category'].head()"
      ],
      "execution_count": null,
      "outputs": [
        {
          "output_type": "execute_result",
          "data": {
            "text/plain": [
              "0    EMS \n",
              "1    EMS \n",
              "2    Fire\n",
              "3    EMS \n",
              "4    EMS \n",
              "Name: reason_category, dtype: object"
            ]
          },
          "metadata": {},
          "execution_count": 101
        }
      ]
    },
    {
      "cell_type": "code",
      "metadata": {
        "trusted": true,
        "colab": {
          "base_uri": "https://localhost:8080/"
        },
        "id": "nMCM54PON7gM",
        "outputId": "52cc7918-e120-4e10-fc57-96a392f60517"
      },
      "source": [
        "data['reason'] = data['title'].apply(lambda title: title.split(':')[1])\n",
        "data['reason'].head()"
      ],
      "execution_count": null,
      "outputs": [
        {
          "output_type": "execute_result",
          "data": {
            "text/plain": [
              "0     BACK PAINS/INJURY \n",
              "1     DIABETIC EMERGENCY\n",
              "2     GAS-ODOR/LEAK     \n",
              "3     CARDIAC EMERGENCY \n",
              "4     DIZZINESS         \n",
              "Name: reason, dtype: object"
            ]
          },
          "metadata": {},
          "execution_count": 102
        }
      ]
    },
    {
      "cell_type": "markdown",
      "metadata": {
        "id": "ugY12hjrN7gM"
      },
      "source": [
        "#### So finally our dataset looks like:"
      ]
    },
    {
      "cell_type": "code",
      "metadata": {
        "trusted": true,
        "colab": {
          "base_uri": "https://localhost:8080/",
          "height": 345
        },
        "id": "1nGi1VNCN7gM",
        "outputId": "a4fed2e4-d02e-43e1-a9a9-da0a507924e6"
      },
      "source": [
        "data.head(5)"
      ],
      "execution_count": null,
      "outputs": [
        {
          "output_type": "execute_result",
          "data": {
            "text/html": [
              "<div>\n",
              "<style scoped>\n",
              "    .dataframe tbody tr th:only-of-type {\n",
              "        vertical-align: middle;\n",
              "    }\n",
              "\n",
              "    .dataframe tbody tr th {\n",
              "        vertical-align: top;\n",
              "    }\n",
              "\n",
              "    .dataframe thead th {\n",
              "        text-align: right;\n",
              "    }\n",
              "</style>\n",
              "<table border=\"1\" class=\"dataframe\">\n",
              "  <thead>\n",
              "    <tr style=\"text-align: right;\">\n",
              "      <th></th>\n",
              "      <th>lat</th>\n",
              "      <th>lng</th>\n",
              "      <th>desc</th>\n",
              "      <th>zip</th>\n",
              "      <th>title</th>\n",
              "      <th>timeStamp</th>\n",
              "      <th>twp</th>\n",
              "      <th>addr</th>\n",
              "      <th>Hour</th>\n",
              "      <th>DayOfWeek</th>\n",
              "      <th>Month</th>\n",
              "      <th>Year</th>\n",
              "      <th>Date</th>\n",
              "      <th>station_code</th>\n",
              "      <th>reason_category</th>\n",
              "      <th>reason</th>\n",
              "    </tr>\n",
              "  </thead>\n",
              "  <tbody>\n",
              "    <tr>\n",
              "      <th>0</th>\n",
              "      <td>40.297876</td>\n",
              "      <td>-75.581294</td>\n",
              "      <td>REINDEER CT &amp; DEAD END;  NEW HANOVER; Station 332; 2015-12-10 @ 17:10:52;</td>\n",
              "      <td>19525.0</td>\n",
              "      <td>EMS: BACK PAINS/INJURY</td>\n",
              "      <td>2015-12-10 17:10:52</td>\n",
              "      <td>NEW HANOVER</td>\n",
              "      <td>REINDEER CT &amp; DEAD END</td>\n",
              "      <td>17</td>\n",
              "      <td>Thu</td>\n",
              "      <td>12</td>\n",
              "      <td>2015</td>\n",
              "      <td>2015-12-10</td>\n",
              "      <td>332</td>\n",
              "      <td>EMS</td>\n",
              "      <td>BACK PAINS/INJURY</td>\n",
              "    </tr>\n",
              "    <tr>\n",
              "      <th>1</th>\n",
              "      <td>40.258061</td>\n",
              "      <td>-75.264680</td>\n",
              "      <td>BRIAR PATH &amp; WHITEMARSH LN;  HATFIELD TOWNSHIP; Station 345; 2015-12-10 @ 17:29:21;</td>\n",
              "      <td>19446.0</td>\n",
              "      <td>EMS: DIABETIC EMERGENCY</td>\n",
              "      <td>2015-12-10 17:29:21</td>\n",
              "      <td>HATFIELD TOWNSHIP</td>\n",
              "      <td>BRIAR PATH &amp; WHITEMARSH LN</td>\n",
              "      <td>17</td>\n",
              "      <td>Thu</td>\n",
              "      <td>12</td>\n",
              "      <td>2015</td>\n",
              "      <td>2015-12-10</td>\n",
              "      <td>345</td>\n",
              "      <td>EMS</td>\n",
              "      <td>DIABETIC EMERGENCY</td>\n",
              "    </tr>\n",
              "    <tr>\n",
              "      <th>2</th>\n",
              "      <td>40.121182</td>\n",
              "      <td>-75.351975</td>\n",
              "      <td>HAWS AVE; NORRISTOWN; 2015-12-10 @ 14:39:21-Station:STA27;</td>\n",
              "      <td>19401.0</td>\n",
              "      <td>Fire: GAS-ODOR/LEAK</td>\n",
              "      <td>2015-12-10 14:39:21</td>\n",
              "      <td>NORRISTOWN</td>\n",
              "      <td>HAWS AVE</td>\n",
              "      <td>14</td>\n",
              "      <td>Thu</td>\n",
              "      <td>12</td>\n",
              "      <td>2015</td>\n",
              "      <td>2015-12-10</td>\n",
              "      <td>STA27</td>\n",
              "      <td>Fire</td>\n",
              "      <td>GAS-ODOR/LEAK</td>\n",
              "    </tr>\n",
              "    <tr>\n",
              "      <th>3</th>\n",
              "      <td>40.116153</td>\n",
              "      <td>-75.343513</td>\n",
              "      <td>AIRY ST &amp; SWEDE ST;  NORRISTOWN; Station 308A; 2015-12-10 @ 16:47:36;</td>\n",
              "      <td>19401.0</td>\n",
              "      <td>EMS: CARDIAC EMERGENCY</td>\n",
              "      <td>2015-12-10 16:47:36</td>\n",
              "      <td>NORRISTOWN</td>\n",
              "      <td>AIRY ST &amp; SWEDE ST</td>\n",
              "      <td>16</td>\n",
              "      <td>Thu</td>\n",
              "      <td>12</td>\n",
              "      <td>2015</td>\n",
              "      <td>2015-12-10</td>\n",
              "      <td>308A</td>\n",
              "      <td>EMS</td>\n",
              "      <td>CARDIAC EMERGENCY</td>\n",
              "    </tr>\n",
              "    <tr>\n",
              "      <th>4</th>\n",
              "      <td>40.251492</td>\n",
              "      <td>-75.603350</td>\n",
              "      <td>CHERRYWOOD CT &amp; DEAD END;  LOWER POTTSGROVE; Station 329; 2015-12-10 @ 16:56:52;</td>\n",
              "      <td>NaN</td>\n",
              "      <td>EMS: DIZZINESS</td>\n",
              "      <td>2015-12-10 16:56:52</td>\n",
              "      <td>LOWER POTTSGROVE</td>\n",
              "      <td>CHERRYWOOD CT &amp; DEAD END</td>\n",
              "      <td>16</td>\n",
              "      <td>Thu</td>\n",
              "      <td>12</td>\n",
              "      <td>2015</td>\n",
              "      <td>2015-12-10</td>\n",
              "      <td>329</td>\n",
              "      <td>EMS</td>\n",
              "      <td>DIZZINESS</td>\n",
              "    </tr>\n",
              "  </tbody>\n",
              "</table>\n",
              "</div>"
            ],
            "text/plain": [
              "         lat        lng  ... reason_category               reason\n",
              "0  40.297876 -75.581294  ...  EMS              BACK PAINS/INJURY \n",
              "1  40.258061 -75.264680  ...  EMS              DIABETIC EMERGENCY\n",
              "2  40.121182 -75.351975  ...  Fire             GAS-ODOR/LEAK     \n",
              "3  40.116153 -75.343513  ...  EMS              CARDIAC EMERGENCY \n",
              "4  40.251492 -75.603350  ...  EMS              DIZZINESS         \n",
              "\n",
              "[5 rows x 16 columns]"
            ]
          },
          "metadata": {},
          "execution_count": 103
        }
      ]
    },
    {
      "cell_type": "markdown",
      "metadata": {
        "id": "HIPgDWN7N7gN"
      },
      "source": [
        "# Exploratory Data Analysis (EDA)"
      ]
    },
    {
      "cell_type": "markdown",
      "metadata": {
        "id": "9WCklrh3N7gN"
      },
      "source": [
        "We do the Exploratory Data Analysis (EDA) of 911 data set to summarize their main characteristics with the help of summary statistics and graphical representations.. This EDA method will help us to explore the data, and possibly formulate hypotheses that could lead to new data collection and experiments.\n",
        "\n",
        "Actually it is a good practice to understand the data first and try to gather as many insights from it. EDA is all about making sense of data in hand,before getting them dirty with it."
      ]
    },
    {
      "cell_type": "markdown",
      "metadata": {
        "id": "V-2-lT0xN7gN"
      },
      "source": [
        "### Top 5 townships (twp) for 911 calls"
      ]
    },
    {
      "cell_type": "code",
      "metadata": {
        "trusted": true,
        "colab": {
          "base_uri": "https://localhost:8080/"
        },
        "id": "nDGcsF7sN7gN",
        "outputId": "94c9be9b-492c-470b-e074-afb873d0cf0d"
      },
      "source": [
        "data['twp'].value_counts().head(10)"
      ],
      "execution_count": null,
      "outputs": [
        {
          "output_type": "execute_result",
          "data": {
            "text/plain": [
              "LOWER MERION        55490\n",
              "ABINGTON            39947\n",
              "NORRISTOWN          37633\n",
              "UPPER MERION        36010\n",
              "CHELTENHAM          30574\n",
              "POTTSTOWN           27387\n",
              "UPPER MORELAND      22932\n",
              "LOWER PROVIDENCE    22476\n",
              "PLYMOUTH            20116\n",
              "UPPER DUBLIN        18862\n",
              "Name: twp, dtype: int64"
            ]
          },
          "metadata": {},
          "execution_count": 104
        }
      ]
    },
    {
      "cell_type": "markdown",
      "metadata": {
        "id": "vsfKOQCBN7gN"
      },
      "source": [
        " Maximum call has came from LOWER MERION township. We need to further analysis what kind of emergency this area has high demand."
      ]
    },
    {
      "cell_type": "markdown",
      "metadata": {
        "id": "VMOIBIu6N7gN"
      },
      "source": [
        "### Most called stations for emergency"
      ]
    },
    {
      "cell_type": "code",
      "metadata": {
        "trusted": true,
        "colab": {
          "base_uri": "https://localhost:8080/"
        },
        "id": "vRM2qKPAN7gN",
        "outputId": "1fe24f78-3ded-47bb-e8a0-f2e354744bde"
      },
      "source": [
        "dfsc = data['station_code'].value_counts().head(10)\n",
        "dfsc"
      ],
      "execution_count": null,
      "outputs": [
        {
          "output_type": "execute_result",
          "data": {
            "text/plain": [
              "308A    25346\n",
              "329     21895\n",
              "313     20325\n",
              "381     15949\n",
              "345     14504\n",
              "308     13963\n",
              "351     12705\n",
              "345B    12165\n",
              "317     11802\n",
              "382     11169\n",
              "Name: station_code, dtype: int64"
            ]
          },
          "metadata": {},
          "execution_count": 107
        }
      ]
    },
    {
      "cell_type": "code",
      "metadata": {
        "trusted": true,
        "colab": {
          "base_uri": "https://localhost:8080/"
        },
        "id": "xTLEu5fmN7gO",
        "outputId": "f93997bc-10ef-4815-e54a-ca4ddac0baea"
      },
      "source": [
        "data[data['station_code'] == \"308A\"]['reason_category'].value_counts()"
      ],
      "execution_count": null,
      "outputs": [
        {
          "output_type": "execute_result",
          "data": {
            "text/plain": [
              "EMS    25346\n",
              "Name: reason_category, dtype: int64"
            ]
          },
          "metadata": {},
          "execution_count": 108
        }
      ]
    },
    {
      "cell_type": "code",
      "metadata": {
        "trusted": true,
        "colab": {
          "base_uri": "https://localhost:8080/"
        },
        "id": "SrPTibXJN7gO",
        "outputId": "239fb593-b1dd-4ec4-ecce-5ad25b389ae9"
      },
      "source": [
        "data[data['station_code'] == \"308A\"]['reason'].value_counts().head(10)"
      ],
      "execution_count": null,
      "outputs": [
        {
          "output_type": "execute_result",
          "data": {
            "text/plain": [
              " RESPIRATORY EMERGENCY        2907\n",
              " CARDIAC EMERGENCY            2331\n",
              " SUBJECT IN PAIN              2293\n",
              " FALL VICTIM                  1697\n",
              " UNKNOWN MEDICAL EMERGENCY    1371\n",
              " VEHICLE ACCIDENT             1247\n",
              " SEIZURES                     1063\n",
              " ABDOMINAL PAINS              1031\n",
              " OVERDOSE                     1027\n",
              " ASSAULT VICTIM               1014\n",
              "Name: reason, dtype: int64"
            ]
          },
          "metadata": {},
          "execution_count": 109
        }
      ]
    },
    {
      "cell_type": "code",
      "metadata": {
        "trusted": true,
        "colab": {
          "base_uri": "https://localhost:8080/",
          "height": 437
        },
        "id": "YWZc5u7gN7gO",
        "outputId": "c4631150-9dbc-4767-94a5-2aea28c24108"
      },
      "source": [
        "plt.figure(figsize=(12,6))\n",
        "plt.bar(dfsc.index,dfsc.values,width=0.6)\n",
        "plt.title(\"Most Called Stations\")\n",
        "plt.xlabel(\"Station\")\n",
        "plt.ylabel(\"Number of calls\")\n",
        "plt.tight_layout()"
      ],
      "execution_count": null,
      "outputs": [
        {
          "output_type": "display_data",
          "data": {
            "image/png": "[encoded data removed]",
            "text/plain": [
              "<Figure size 864x432 with 1 Axes>"
            ]
          },
          "metadata": {}
        }
      ]
    },
    {
      "cell_type": "markdown",
      "metadata": {
        "id": "9Ftc0gO-N7gO"
      },
      "source": [
        " Most of the calls come to stations 308A, 329, 313, 381, and 345"
      ]
    },
    {
      "cell_type": "markdown",
      "metadata": {
        "id": "lj25R8FIN7gO"
      },
      "source": [
        "###  Top 10 zipcodes for 911 calls"
      ]
    },
    {
      "cell_type": "code",
      "metadata": {
        "trusted": true,
        "colab": {
          "base_uri": "https://localhost:8080/"
        },
        "id": "wijRktvHN7gO",
        "outputId": "dd3b2c06-77b8-4dd4-ece9-9afad6467b73"
      },
      "source": [
        "dfzip = data['zip'].value_counts().head(10)\n",
        "dfzip"
      ],
      "execution_count": null,
      "outputs": [
        {
          "output_type": "execute_result",
          "data": {
            "text/plain": [
              "19401.0    45606\n",
              "19464.0    43910\n",
              "19403.0    34888\n",
              "19446.0    32270\n",
              "19406.0    22464\n",
              "19002.0    21070\n",
              "19468.0    18939\n",
              "19046.0    17886\n",
              "19454.0    17661\n",
              "19090.0    17377\n",
              "Name: zip, dtype: int64"
            ]
          },
          "metadata": {},
          "execution_count": 111
        }
      ]
    },
    {
      "cell_type": "code",
      "metadata": {
        "trusted": true,
        "colab": {
          "base_uri": "https://localhost:8080/"
        },
        "id": "8-NWHqFKN7gO",
        "outputId": "7cc75af5-842d-4c42-82ca-01c952358dbf"
      },
      "source": [
        "data['zip'].nunique()"
      ],
      "execution_count": null,
      "outputs": [
        {
          "output_type": "execute_result",
          "data": {
            "text/plain": [
              "204"
            ]
          },
          "metadata": {},
          "execution_count": 112
        }
      ]
    },
    {
      "cell_type": "code",
      "metadata": {
        "trusted": true,
        "colab": {
          "base_uri": "https://localhost:8080/"
        },
        "id": "sok5ftMKN7gO",
        "outputId": "173dfbc3-5536-4b7f-bbbb-5409e106c9f5"
      },
      "source": [
        "data[data['zip']==19401.0]['twp'].head(10)"
      ],
      "execution_count": null,
      "outputs": [
        {
          "output_type": "execute_result",
          "data": {
            "text/plain": [
              "2      NORRISTOWN\n",
              "3      NORRISTOWN\n",
              "18     NORRISTOWN\n",
              "20     NORRISTOWN\n",
              "32     NORRISTOWN\n",
              "43     NORRISTOWN\n",
              "64     NORRISTOWN\n",
              "78     NORRISTOWN\n",
              "99     NORRISTOWN\n",
              "115    NORRISTOWN\n",
              "Name: twp, dtype: object"
            ]
          },
          "metadata": {},
          "execution_count": 113
        }
      ]
    },
    {
      "cell_type": "code",
      "metadata": {
        "trusted": true,
        "colab": {
          "base_uri": "https://localhost:8080/"
        },
        "id": "uNAdlmDuN7gO",
        "outputId": "93e72f88-5b15-40db-8372-8a5e66e432e4"
      },
      "source": [
        "data[data['zip']==19401.0]['reason_category'].value_counts()"
      ],
      "execution_count": null,
      "outputs": [
        {
          "output_type": "execute_result",
          "data": {
            "text/plain": [
              "EMS        29601\n",
              "Traffic    9896 \n",
              "Fire       6109 \n",
              "Name: reason_category, dtype: int64"
            ]
          },
          "metadata": {},
          "execution_count": 114
        }
      ]
    },
    {
      "cell_type": "code",
      "metadata": {
        "trusted": true,
        "colab": {
          "base_uri": "https://localhost:8080/"
        },
        "id": "y6JBsrWmN7gO",
        "outputId": "38108b04-6648-46ba-d2e8-901c458068b0"
      },
      "source": [
        "data[data['zip']==19401.0]['reason'].value_counts().head()"
      ],
      "execution_count": null,
      "outputs": [
        {
          "output_type": "execute_result",
          "data": {
            "text/plain": [
              " VEHICLE ACCIDENT -       7556\n",
              " RESPIRATORY EMERGENCY    3501\n",
              " CARDIAC EMERGENCY        2884\n",
              " SUBJECT IN PAIN          2498\n",
              " FALL VICTIM              2463\n",
              "Name: reason, dtype: int64"
            ]
          },
          "metadata": {},
          "execution_count": 115
        }
      ]
    },
    {
      "cell_type": "code",
      "metadata": {
        "trusted": true,
        "colab": {
          "base_uri": "https://localhost:8080/"
        },
        "id": "WZwDf8SFN7gP",
        "outputId": "8c18fa2b-513b-41f7-bb4d-b07e6b8279b3"
      },
      "source": [
        "data[data['zip']==19401.0].shape[0]"
      ],
      "execution_count": null,
      "outputs": [
        {
          "output_type": "execute_result",
          "data": {
            "text/plain": [
              "45606"
            ]
          },
          "metadata": {},
          "execution_count": 116
        }
      ]
    },
    {
      "cell_type": "markdown",
      "metadata": {
        "id": "wpgHyLRIN7gP"
      },
      "source": [
        "\n",
        "* Emergency calls has been made from total 197 zip codes.\n",
        "* Maximum number of emergency calls (43075) have been received from Norristown township having zip code 19401.0\n",
        "* About 16.8% (7233/43075) emergency calls in this area are related to vehical accidents only. So this area needs to improve in this field to avoid such cases, like reckless driving, driving in bad weather conditions, not stopping while the red light is running etc."
      ]
    },
    {
      "cell_type": "markdown",
      "metadata": {
        "id": "MIDCFOjFN7gP"
      },
      "source": [
        "### Top 10 dates of receiving the maximum in calls in all the years:"
      ]
    },
    {
      "cell_type": "code",
      "metadata": {
        "trusted": true,
        "colab": {
          "base_uri": "https://localhost:8080/"
        },
        "id": "AWfVRO6-N7gP",
        "outputId": "7cd68828-39ab-422a-9b2d-9f46d8df514a"
      },
      "source": [
        "data['Date'].value_counts().head(10)"
      ],
      "execution_count": null,
      "outputs": [
        {
          "output_type": "execute_result",
          "data": {
            "text/plain": [
              "2018-03-02    2187\n",
              "2018-11-15    1662\n",
              "2020-06-03    1401\n",
              "2018-03-07    920 \n",
              "2018-03-03    917 \n",
              "2016-01-23    887 \n",
              "2019-11-01    877 \n",
              "2019-07-11    769 \n",
              "2020-01-18    706 \n",
              "2019-02-25    690 \n",
              "Name: Date, dtype: int64"
            ]
          },
          "metadata": {},
          "execution_count": 117
        }
      ]
    },
    {
      "cell_type": "code",
      "metadata": {
        "trusted": true,
        "colab": {
          "base_uri": "https://localhost:8080/",
          "height": 428
        },
        "id": "4XyUennQN7gP",
        "outputId": "36626362-e606-46be-f5e6-5c9affb946d8"
      },
      "source": [
        "plt.figure(figsize=(12,6))\n",
        "sns.countplot(x=data['reason_category'],data=data, palette='bright')\n",
        "plt.title(\"Emergency call category\")"
      ],
      "execution_count": null,
      "outputs": [
        {
          "output_type": "execute_result",
          "data": {
            "text/plain": [
              "Text(0.5, 1.0, 'Emergency call category')"
            ]
          },
          "metadata": {},
          "execution_count": 120
        },
        {
          "output_type": "display_data",
          "data": {
            "image/png": "[encoded data removed]",
            "text/plain": [
              "<Figure size 864x432 with 1 Axes>"
            ]
          },
          "metadata": {}
        }
      ]
    },
    {
      "cell_type": "markdown",
      "metadata": {
        "id": "5jZ0xc4CN7gP"
      },
      "source": [
        " People called more for medical emergency service rather than others."
      ]
    },
    {
      "cell_type": "code",
      "metadata": {
        "trusted": true,
        "colab": {
          "base_uri": "https://localhost:8080/",
          "height": 428
        },
        "id": "fTGqBsSVN7gP",
        "outputId": "5b5dbfcb-0176-4795-e695-a38da21eeb20"
      },
      "source": [
        "plt.figure(figsize=(12,6))\n",
        "sns.countplot(x=data['DayOfWeek'],data=data,hue=data['reason_category'],palette='bright')\n",
        "plt.title(\"Emergency calls day wise groupby category\")\n",
        "plt.legend(loc=2, bbox_to_anchor=(1.05, 1))"
      ],
      "execution_count": null,
      "outputs": [
        {
          "output_type": "execute_result",
          "data": {
            "text/plain": [
              "<matplotlib.legend.Legend at 0x7f78fa88bf90>"
            ]
          },
          "metadata": {},
          "execution_count": 121
        },
        {
          "output_type": "display_data",
          "data": {
            "image/png": "[encoded data removed]",
            "text/plain": [
              "<Figure size 864x432 with 1 Axes>"
            ]
          },
          "metadata": {}
        }
      ]
    },
    {
      "cell_type": "markdown",
      "metadata": {
        "id": "16fiafpuN7gQ"
      },
      "source": [
        "Emergency calls is almost equal on all days."
      ]
    },
    {
      "cell_type": "code",
      "metadata": {
        "trusted": true,
        "colab": {
          "base_uri": "https://localhost:8080/",
          "height": 428
        },
        "id": "j9nFox9hN7gQ",
        "outputId": "632c9d77-85e2-45bd-9900-612943a6d8f6"
      },
      "source": [
        "plt.figure(figsize=(12,6))\n",
        "sns.countplot(x=data['Year'],data=data,hue=data['reason_category'],palette='bright')\n",
        "plt.title(\"Emergency calls yearly groupby category\")\n",
        "plt.legend(loc=2, bbox_to_anchor=(1.05, 1))"
      ],
      "execution_count": null,
      "outputs": [
        {
          "output_type": "execute_result",
          "data": {
            "text/plain": [
              "<matplotlib.legend.Legend at 0x7f78fa86c4d0>"
            ]
          },
          "metadata": {},
          "execution_count": 123
        },
        {
          "output_type": "display_data",
          "data": {
            "image/png": "[encoded data removed]",
            "text/plain": [
              "<Figure size 864x432 with 1 Axes>"
            ]
          },
          "metadata": {}
        }
      ]
    },
    {
      "cell_type": "markdown",
      "metadata": {
        "id": "yiOF1XAIN7gQ"
      },
      "source": [
        "\n",
        "Emergency calls are almost same throughout the year, except for year 2015 and 2020. Our dataset contains data for only one month of year 2015 and only four months of year 2020. So data is not available for complete year of 2015 and 2020."
      ]
    },
    {
      "cell_type": "markdown",
      "metadata": {
        "id": "zPMHVo4KN7gQ"
      },
      "source": [
        "**Now I will do the same for Month:**"
      ]
    },
    {
      "cell_type": "code",
      "metadata": {
        "trusted": true,
        "colab": {
          "base_uri": "https://localhost:8080/",
          "height": 428
        },
        "id": "KShtR2VMN7gQ",
        "outputId": "b7272e3a-d4fa-49f3-ebfb-91f9c13424ed"
      },
      "source": [
        "plt.figure(figsize=(12,6))\n",
        "sns.countplot(x=data['Month'],data=data,hue=data['reason_category'],palette='bright')\n",
        "plt.title(\"Emergency call month wise groupby category\")\n",
        "plt.legend(loc=2, bbox_to_anchor=(1.05, 1))"
      ],
      "execution_count": null,
      "outputs": [
        {
          "output_type": "execute_result",
          "data": {
            "text/plain": [
              "<matplotlib.legend.Legend at 0x7f78fa78fa10>"
            ]
          },
          "metadata": {},
          "execution_count": 124
        },
        {
          "output_type": "display_data",
          "data": {
            "image/png": "[encoded data removed]",
            "text/plain": [
              "<Figure size 864x432 with 1 Axes>"
            ]
          },
          "metadata": {}
        }
      ]
    },
    {
      "cell_type": "code",
      "metadata": {
        "trusted": true,
        "colab": {
          "base_uri": "https://localhost:8080/",
          "height": 428
        },
        "id": "eDFCeJXuN7gQ",
        "outputId": "73632f35-9fee-4b50-b35f-eaa22143fbf0"
      },
      "source": [
        "plt.figure(figsize=(12,6))\n",
        "sns.countplot(x=data['Hour'],data=data,palette='Set2')\n",
        "plt.title(\"Emergency call hour wise groupby category\")"
      ],
      "execution_count": null,
      "outputs": [
        {
          "output_type": "execute_result",
          "data": {
            "text/plain": [
              "Text(0.5, 1.0, 'Emergency call hour wise groupby category')"
            ]
          },
          "metadata": {},
          "execution_count": 125
        },
        {
          "output_type": "display_data",
          "data": {
            "image/png": "[encoded data removed]",
            "text/plain": [
              "<Figure size 864x432 with 1 Axes>"
            ]
          },
          "metadata": {}
        }
      ]
    },
    {
      "cell_type": "markdown",
      "metadata": {
        "id": "ELDTsIuON7gR"
      },
      "source": [
        "### Top 10 reasons for emergency calls"
      ]
    },
    {
      "cell_type": "code",
      "metadata": {
        "trusted": true,
        "colab": {
          "base_uri": "https://localhost:8080/"
        },
        "id": "HH_WkBgXN7gR",
        "outputId": "f6816aad-d328-4479-e15d-38a678d134f7"
      },
      "source": [
        "dfRes = data['reason'].value_counts().head(10)\n",
        "dfRes"
      ],
      "execution_count": null,
      "outputs": [
        {
          "output_type": "execute_result",
          "data": {
            "text/plain": [
              " VEHICLE ACCIDENT -       148372\n",
              " DISABLED VEHICLE -       47909 \n",
              " FIRE ALARM               38452 \n",
              " VEHICLE ACCIDENT         36377 \n",
              " FALL VICTIM              34683 \n",
              " RESPIRATORY EMERGENCY    34250 \n",
              " CARDIAC EMERGENCY        32339 \n",
              " ROAD OBSTRUCTION -       23235 \n",
              " SUBJECT IN PAIN          19650 \n",
              " HEAD INJURY              18304 \n",
              "Name: reason, dtype: int64"
            ]
          },
          "metadata": {},
          "execution_count": 127
        }
      ]
    },
    {
      "cell_type": "code",
      "metadata": {
        "trusted": true,
        "colab": {
          "base_uri": "https://localhost:8080/"
        },
        "id": "iz9HVpH_N7gR",
        "outputId": "5c32c65f-eadb-452a-9d5d-363f329ea6e3"
      },
      "source": [
        "data['reason'].nunique()"
      ],
      "execution_count": null,
      "outputs": [
        {
          "output_type": "execute_result",
          "data": {
            "text/plain": [
              "95"
            ]
          },
          "metadata": {},
          "execution_count": 128
        }
      ]
    },
    {
      "cell_type": "code",
      "metadata": {
        "trusted": true,
        "colab": {
          "base_uri": "https://localhost:8080/",
          "height": 437
        },
        "id": "euMmN0kIN7gR",
        "outputId": "ea8e0f71-851b-4ac4-9b58-f1f54b86c9af"
      },
      "source": [
        "plt.figure(figsize=(12, 6))\n",
        "x = list(dfRes.index)\n",
        "y = list(dfRes.values)\n",
        "x.reverse()\n",
        "y.reverse()\n",
        "\n",
        "plt.title(\"Most emergency reasons of calls\")\n",
        "plt.ylabel(\"Reason\")\n",
        "plt.xlabel(\"Number of calls\")\n",
        "\n",
        "plt.barh(x,y)\n",
        "plt.tight_layout()\n",
        "plt.show()"
      ],
      "execution_count": null,
      "outputs": [
        {
          "output_type": "display_data",
          "data": {
            "image/png": "[encoded data removed]",
            "text/plain": [
              "<Figure size 864x432 with 1 Axes>"
            ]
          },
          "metadata": {}
        }
      ]
    },
    {
      "cell_type": "markdown",
      "metadata": {
        "id": "FE9lGXWsN7gR"
      },
      "source": [
        "\n",
        "Highest number of emergency calls are due to vehicals accidents."
      ]
    },
    {
      "cell_type": "markdown",
      "metadata": {
        "id": "l-rGg1hSN7gR"
      },
      "source": [
        "### Now group the DataFrame by column and the count() method for aggregation"
      ]
    },
    {
      "cell_type": "code",
      "metadata": {
        "trusted": true,
        "colab": {
          "base_uri": "https://localhost:8080/",
          "height": 456
        },
        "id": "OukRZc_uN7gR",
        "outputId": "3fd435e5-ffc2-4976-c46c-041b55f9430b"
      },
      "source": [
        "byMonth = data.groupby('Month').count().sort_values(by='Month',ascending=True)\n",
        "byMonth.head(12)"
      ],
      "execution_count": null,
      "outputs": [
        {
          "output_type": "execute_result",
          "data": {
            "text/html": [
              "<div>\n",
              "<style scoped>\n",
              "    .dataframe tbody tr th:only-of-type {\n",
              "        vertical-align: middle;\n",
              "    }\n",
              "\n",
              "    .dataframe tbody tr th {\n",
              "        vertical-align: top;\n",
              "    }\n",
              "\n",
              "    .dataframe thead th {\n",
              "        text-align: right;\n",
              "    }\n",
              "</style>\n",
              "<table border=\"1\" class=\"dataframe\">\n",
              "  <thead>\n",
              "    <tr style=\"text-align: right;\">\n",
              "      <th></th>\n",
              "      <th>lat</th>\n",
              "      <th>lng</th>\n",
              "      <th>desc</th>\n",
              "      <th>zip</th>\n",
              "      <th>title</th>\n",
              "      <th>timeStamp</th>\n",
              "      <th>twp</th>\n",
              "      <th>addr</th>\n",
              "      <th>Hour</th>\n",
              "      <th>DayOfWeek</th>\n",
              "      <th>Year</th>\n",
              "      <th>Date</th>\n",
              "      <th>station_code</th>\n",
              "      <th>reason_category</th>\n",
              "      <th>reason</th>\n",
              "    </tr>\n",
              "    <tr>\n",
              "      <th>Month</th>\n",
              "      <th></th>\n",
              "      <th></th>\n",
              "      <th></th>\n",
              "      <th></th>\n",
              "      <th></th>\n",
              "      <th></th>\n",
              "      <th></th>\n",
              "      <th></th>\n",
              "      <th></th>\n",
              "      <th></th>\n",
              "      <th></th>\n",
              "      <th></th>\n",
              "      <th></th>\n",
              "      <th></th>\n",
              "      <th></th>\n",
              "    </tr>\n",
              "  </thead>\n",
              "  <tbody>\n",
              "    <tr>\n",
              "      <th>1</th>\n",
              "      <td>62336</td>\n",
              "      <td>62336</td>\n",
              "      <td>62336</td>\n",
              "      <td>55294</td>\n",
              "      <td>62336</td>\n",
              "      <td>62336</td>\n",
              "      <td>62312</td>\n",
              "      <td>62336</td>\n",
              "      <td>62336</td>\n",
              "      <td>62336</td>\n",
              "      <td>62336</td>\n",
              "      <td>62336</td>\n",
              "      <td>40057</td>\n",
              "      <td>62336</td>\n",
              "      <td>62336</td>\n",
              "    </tr>\n",
              "    <tr>\n",
              "      <th>2</th>\n",
              "      <td>55427</td>\n",
              "      <td>55427</td>\n",
              "      <td>55427</td>\n",
              "      <td>48922</td>\n",
              "      <td>55427</td>\n",
              "      <td>55427</td>\n",
              "      <td>55405</td>\n",
              "      <td>55427</td>\n",
              "      <td>55427</td>\n",
              "      <td>55427</td>\n",
              "      <td>55427</td>\n",
              "      <td>55427</td>\n",
              "      <td>36421</td>\n",
              "      <td>55427</td>\n",
              "      <td>55427</td>\n",
              "    </tr>\n",
              "    <tr>\n",
              "      <th>3</th>\n",
              "      <td>60027</td>\n",
              "      <td>60027</td>\n",
              "      <td>60027</td>\n",
              "      <td>53252</td>\n",
              "      <td>60027</td>\n",
              "      <td>60027</td>\n",
              "      <td>60001</td>\n",
              "      <td>60027</td>\n",
              "      <td>60027</td>\n",
              "      <td>60027</td>\n",
              "      <td>60027</td>\n",
              "      <td>60027</td>\n",
              "      <td>39124</td>\n",
              "      <td>60027</td>\n",
              "      <td>60027</td>\n",
              "    </tr>\n",
              "    <tr>\n",
              "      <th>4</th>\n",
              "      <td>53671</td>\n",
              "      <td>53671</td>\n",
              "      <td>53671</td>\n",
              "      <td>47349</td>\n",
              "      <td>53671</td>\n",
              "      <td>53671</td>\n",
              "      <td>53655</td>\n",
              "      <td>53671</td>\n",
              "      <td>53671</td>\n",
              "      <td>53671</td>\n",
              "      <td>53671</td>\n",
              "      <td>53671</td>\n",
              "      <td>36617</td>\n",
              "      <td>53671</td>\n",
              "      <td>53671</td>\n",
              "    </tr>\n",
              "    <tr>\n",
              "      <th>5</th>\n",
              "      <td>57509</td>\n",
              "      <td>57509</td>\n",
              "      <td>57509</td>\n",
              "      <td>50354</td>\n",
              "      <td>57509</td>\n",
              "      <td>57509</td>\n",
              "      <td>57474</td>\n",
              "      <td>57509</td>\n",
              "      <td>57509</td>\n",
              "      <td>57509</td>\n",
              "      <td>57509</td>\n",
              "      <td>57509</td>\n",
              "      <td>38164</td>\n",
              "      <td>57509</td>\n",
              "      <td>57509</td>\n",
              "    </tr>\n",
              "    <tr>\n",
              "      <th>6</th>\n",
              "      <td>60034</td>\n",
              "      <td>60034</td>\n",
              "      <td>60034</td>\n",
              "      <td>52593</td>\n",
              "      <td>60034</td>\n",
              "      <td>60034</td>\n",
              "      <td>60005</td>\n",
              "      <td>60034</td>\n",
              "      <td>60034</td>\n",
              "      <td>60034</td>\n",
              "      <td>60034</td>\n",
              "      <td>60034</td>\n",
              "      <td>39391</td>\n",
              "      <td>60034</td>\n",
              "      <td>60034</td>\n",
              "    </tr>\n",
              "    <tr>\n",
              "      <th>7</th>\n",
              "      <td>59832</td>\n",
              "      <td>59832</td>\n",
              "      <td>59832</td>\n",
              "      <td>52507</td>\n",
              "      <td>59832</td>\n",
              "      <td>59832</td>\n",
              "      <td>59802</td>\n",
              "      <td>59832</td>\n",
              "      <td>59832</td>\n",
              "      <td>59832</td>\n",
              "      <td>59832</td>\n",
              "      <td>59832</td>\n",
              "      <td>39692</td>\n",
              "      <td>59832</td>\n",
              "      <td>59832</td>\n",
              "    </tr>\n",
              "    <tr>\n",
              "      <th>8</th>\n",
              "      <td>48359</td>\n",
              "      <td>48359</td>\n",
              "      <td>48359</td>\n",
              "      <td>42311</td>\n",
              "      <td>48359</td>\n",
              "      <td>48359</td>\n",
              "      <td>48335</td>\n",
              "      <td>48359</td>\n",
              "      <td>48359</td>\n",
              "      <td>48359</td>\n",
              "      <td>48359</td>\n",
              "      <td>48359</td>\n",
              "      <td>32008</td>\n",
              "      <td>48359</td>\n",
              "      <td>48359</td>\n",
              "    </tr>\n",
              "    <tr>\n",
              "      <th>9</th>\n",
              "      <td>47213</td>\n",
              "      <td>47213</td>\n",
              "      <td>47213</td>\n",
              "      <td>41289</td>\n",
              "      <td>47213</td>\n",
              "      <td>47213</td>\n",
              "      <td>47196</td>\n",
              "      <td>47213</td>\n",
              "      <td>47213</td>\n",
              "      <td>47213</td>\n",
              "      <td>47213</td>\n",
              "      <td>47213</td>\n",
              "      <td>31240</td>\n",
              "      <td>47213</td>\n",
              "      <td>47213</td>\n",
              "    </tr>\n",
              "    <tr>\n",
              "      <th>10</th>\n",
              "      <td>51240</td>\n",
              "      <td>51240</td>\n",
              "      <td>51240</td>\n",
              "      <td>44582</td>\n",
              "      <td>51240</td>\n",
              "      <td>51240</td>\n",
              "      <td>51220</td>\n",
              "      <td>51240</td>\n",
              "      <td>51240</td>\n",
              "      <td>51240</td>\n",
              "      <td>51240</td>\n",
              "      <td>51240</td>\n",
              "      <td>32708</td>\n",
              "      <td>51240</td>\n",
              "      <td>51240</td>\n",
              "    </tr>\n",
              "    <tr>\n",
              "      <th>11</th>\n",
              "      <td>50182</td>\n",
              "      <td>50182</td>\n",
              "      <td>50182</td>\n",
              "      <td>44087</td>\n",
              "      <td>50182</td>\n",
              "      <td>50182</td>\n",
              "      <td>50157</td>\n",
              "      <td>50182</td>\n",
              "      <td>50182</td>\n",
              "      <td>50182</td>\n",
              "      <td>50182</td>\n",
              "      <td>50182</td>\n",
              "      <td>31065</td>\n",
              "      <td>50182</td>\n",
              "      <td>50182</td>\n",
              "    </tr>\n",
              "    <tr>\n",
              "      <th>12</th>\n",
              "      <td>57692</td>\n",
              "      <td>57692</td>\n",
              "      <td>57692</td>\n",
              "      <td>50783</td>\n",
              "      <td>57692</td>\n",
              "      <td>57692</td>\n",
              "      <td>57667</td>\n",
              "      <td>57692</td>\n",
              "      <td>57692</td>\n",
              "      <td>57692</td>\n",
              "      <td>57692</td>\n",
              "      <td>57692</td>\n",
              "      <td>36827</td>\n",
              "      <td>57692</td>\n",
              "      <td>57692</td>\n",
              "    </tr>\n",
              "  </tbody>\n",
              "</table>\n",
              "</div>"
            ],
            "text/plain": [
              "         lat    lng   desc    zip  ...   Date  station_code  reason_category  reason\n",
              "Month                              ...                                              \n",
              "1      62336  62336  62336  55294  ...  62336  40057         62336            62336 \n",
              "2      55427  55427  55427  48922  ...  55427  36421         55427            55427 \n",
              "3      60027  60027  60027  53252  ...  60027  39124         60027            60027 \n",
              "4      53671  53671  53671  47349  ...  53671  36617         53671            53671 \n",
              "5      57509  57509  57509  50354  ...  57509  38164         57509            57509 \n",
              "6      60034  60034  60034  52593  ...  60034  39391         60034            60034 \n",
              "7      59832  59832  59832  52507  ...  59832  39692         59832            59832 \n",
              "8      48359  48359  48359  42311  ...  48359  32008         48359            48359 \n",
              "9      47213  47213  47213  41289  ...  47213  31240         47213            47213 \n",
              "10     51240  51240  51240  44582  ...  51240  32708         51240            51240 \n",
              "11     50182  50182  50182  44087  ...  50182  31065         50182            50182 \n",
              "12     57692  57692  57692  50783  ...  57692  36827         57692            57692 \n",
              "\n",
              "[12 rows x 15 columns]"
            ]
          },
          "metadata": {},
          "execution_count": 130
        }
      ]
    },
    {
      "cell_type": "markdown",
      "metadata": {
        "id": "cum7ACLgN7gR"
      },
      "source": [
        "**Now create a simple plot off of the dataframe indicating the count of calls per month.**"
      ]
    },
    {
      "cell_type": "code",
      "metadata": {
        "trusted": true,
        "colab": {
          "base_uri": "https://localhost:8080/",
          "height": 428
        },
        "id": "a0-hx9K0N7gS",
        "outputId": "77a952ac-3d99-4fdd-e5c3-bd0855fdf07b"
      },
      "source": [
        "byMonth['twp'].plot(figsize=(12, 6))\n",
        "plt.title('Count of calls per month')"
      ],
      "execution_count": null,
      "outputs": [
        {
          "output_type": "execute_result",
          "data": {
            "text/plain": [
              "Text(0.5, 1.0, 'Count of calls per month')"
            ]
          },
          "metadata": {},
          "execution_count": 131
        },
        {
          "output_type": "display_data",
          "data": {
            "image/png": "[encoded data removed]",
            "text/plain": [
              "<Figure size 864x432 with 1 Axes>"
            ]
          },
          "metadata": {}
        }
      ]
    },
    {
      "cell_type": "markdown",
      "metadata": {
        "id": "Ns0vl0KAN7gS"
      },
      "source": [
        " Maximum emergency service required in the months of Jan,Feb, March and Dec, broadly speaking in Winder season. As we already seen above that people require traffic related emergecy service and in winter due to bad weather, fog, less visibility this may cuase more."
      ]
    },
    {
      "cell_type": "markdown",
      "metadata": {
        "id": "b_smqlicN7gS"
      },
      "source": [
        "### Linear fit on the number of calls per month"
      ]
    },
    {
      "cell_type": "markdown",
      "metadata": {
        "id": "sRwocIkzN7gS"
      },
      "source": [
        "**Now see if you can use seaborn's lmplot() to create a linear fit on the number of calls per month. Keep in mind you may need to reset the index to a column.**"
      ]
    },
    {
      "cell_type": "code",
      "metadata": {
        "trusted": true,
        "colab": {
          "base_uri": "https://localhost:8080/",
          "height": 402
        },
        "id": "dt1voBGZN7gS",
        "outputId": "8a14011a-6780-44d7-cc87-a4f4fa6b4d13"
      },
      "source": [
        "plt.figure(figsize=(12, 8))\n",
        "sns.lmplot(x='Month',y='twp',data=byMonth.reset_index())"
      ],
      "execution_count": null,
      "outputs": [
        {
          "output_type": "execute_result",
          "data": {
            "text/plain": [
              "<seaborn.axisgrid.FacetGrid at 0x7f78fa512c10>"
            ]
          },
          "metadata": {},
          "execution_count": 132
        },
        {
          "output_type": "display_data",
          "data": {
            "text/plain": [
              "<Figure size 864x576 with 0 Axes>"
            ]
          },
          "metadata": {}
        },
        {
          "output_type": "display_data",
          "data": {
            "image/png": "[encoded data removed]",
            "text/plain": [
              "<Figure size 360x360 with 1 Axes>"
            ]
          },
          "metadata": {}
        }
      ]
    },
    {
      "cell_type": "markdown",
      "metadata": {
        "id": "s-cVlwgeN7gS"
      },
      "source": [
        "### Now groupby the Date column with the count() aggregate and create a plot of counts of 911 calls."
      ]
    },
    {
      "cell_type": "code",
      "metadata": {
        "trusted": true,
        "colab": {
          "base_uri": "https://localhost:8080/",
          "height": 237
        },
        "id": "GvhlNgzIN7gS",
        "outputId": "4d34b418-4ba2-4585-e90e-aa057e9185c0"
      },
      "source": [
        "byDate = data.groupby('Date').count().sort_values(by='Date',ascending=True)\n",
        "byDate.head()"
      ],
      "execution_count": null,
      "outputs": [
        {
          "output_type": "execute_result",
          "data": {
            "text/html": [
              "<div>\n",
              "<style scoped>\n",
              "    .dataframe tbody tr th:only-of-type {\n",
              "        vertical-align: middle;\n",
              "    }\n",
              "\n",
              "    .dataframe tbody tr th {\n",
              "        vertical-align: top;\n",
              "    }\n",
              "\n",
              "    .dataframe thead th {\n",
              "        text-align: right;\n",
              "    }\n",
              "</style>\n",
              "<table border=\"1\" class=\"dataframe\">\n",
              "  <thead>\n",
              "    <tr style=\"text-align: right;\">\n",
              "      <th></th>\n",
              "      <th>lat</th>\n",
              "      <th>lng</th>\n",
              "      <th>desc</th>\n",
              "      <th>zip</th>\n",
              "      <th>title</th>\n",
              "      <th>timeStamp</th>\n",
              "      <th>twp</th>\n",
              "      <th>addr</th>\n",
              "      <th>Hour</th>\n",
              "      <th>DayOfWeek</th>\n",
              "      <th>Month</th>\n",
              "      <th>Year</th>\n",
              "      <th>station_code</th>\n",
              "      <th>reason_category</th>\n",
              "      <th>reason</th>\n",
              "    </tr>\n",
              "    <tr>\n",
              "      <th>Date</th>\n",
              "      <th></th>\n",
              "      <th></th>\n",
              "      <th></th>\n",
              "      <th></th>\n",
              "      <th></th>\n",
              "      <th></th>\n",
              "      <th></th>\n",
              "      <th></th>\n",
              "      <th></th>\n",
              "      <th></th>\n",
              "      <th></th>\n",
              "      <th></th>\n",
              "      <th></th>\n",
              "      <th></th>\n",
              "      <th></th>\n",
              "    </tr>\n",
              "  </thead>\n",
              "  <tbody>\n",
              "    <tr>\n",
              "      <th>2015-12-10</th>\n",
              "      <td>114</td>\n",
              "      <td>114</td>\n",
              "      <td>114</td>\n",
              "      <td>100</td>\n",
              "      <td>114</td>\n",
              "      <td>114</td>\n",
              "      <td>114</td>\n",
              "      <td>114</td>\n",
              "      <td>114</td>\n",
              "      <td>114</td>\n",
              "      <td>114</td>\n",
              "      <td>114</td>\n",
              "      <td>73</td>\n",
              "      <td>114</td>\n",
              "      <td>114</td>\n",
              "    </tr>\n",
              "    <tr>\n",
              "      <th>2015-12-11</th>\n",
              "      <td>391</td>\n",
              "      <td>391</td>\n",
              "      <td>391</td>\n",
              "      <td>332</td>\n",
              "      <td>391</td>\n",
              "      <td>391</td>\n",
              "      <td>391</td>\n",
              "      <td>391</td>\n",
              "      <td>391</td>\n",
              "      <td>391</td>\n",
              "      <td>391</td>\n",
              "      <td>391</td>\n",
              "      <td>254</td>\n",
              "      <td>391</td>\n",
              "      <td>391</td>\n",
              "    </tr>\n",
              "    <tr>\n",
              "      <th>2015-12-12</th>\n",
              "      <td>402</td>\n",
              "      <td>402</td>\n",
              "      <td>402</td>\n",
              "      <td>334</td>\n",
              "      <td>402</td>\n",
              "      <td>402</td>\n",
              "      <td>402</td>\n",
              "      <td>402</td>\n",
              "      <td>402</td>\n",
              "      <td>402</td>\n",
              "      <td>402</td>\n",
              "      <td>402</td>\n",
              "      <td>257</td>\n",
              "      <td>402</td>\n",
              "      <td>402</td>\n",
              "    </tr>\n",
              "    <tr>\n",
              "      <th>2015-12-13</th>\n",
              "      <td>316</td>\n",
              "      <td>316</td>\n",
              "      <td>316</td>\n",
              "      <td>279</td>\n",
              "      <td>316</td>\n",
              "      <td>316</td>\n",
              "      <td>316</td>\n",
              "      <td>316</td>\n",
              "      <td>316</td>\n",
              "      <td>316</td>\n",
              "      <td>316</td>\n",
              "      <td>316</td>\n",
              "      <td>241</td>\n",
              "      <td>316</td>\n",
              "      <td>316</td>\n",
              "    </tr>\n",
              "    <tr>\n",
              "      <th>2015-12-14</th>\n",
              "      <td>444</td>\n",
              "      <td>444</td>\n",
              "      <td>444</td>\n",
              "      <td>386</td>\n",
              "      <td>444</td>\n",
              "      <td>444</td>\n",
              "      <td>443</td>\n",
              "      <td>444</td>\n",
              "      <td>444</td>\n",
              "      <td>444</td>\n",
              "      <td>444</td>\n",
              "      <td>444</td>\n",
              "      <td>260</td>\n",
              "      <td>444</td>\n",
              "      <td>444</td>\n",
              "    </tr>\n",
              "  </tbody>\n",
              "</table>\n",
              "</div>"
            ],
            "text/plain": [
              "            lat  lng  desc  zip  ...  Year  station_code  reason_category  reason\n",
              "Date                             ...                                             \n",
              "2015-12-10  114  114  114   100  ...  114   73            114              114   \n",
              "2015-12-11  391  391  391   332  ...  391   254           391              391   \n",
              "2015-12-12  402  402  402   334  ...  402   257           402              402   \n",
              "2015-12-13  316  316  316   279  ...  316   241           316              316   \n",
              "2015-12-14  444  444  444   386  ...  444   260           444              444   \n",
              "\n",
              "[5 rows x 15 columns]"
            ]
          },
          "metadata": {},
          "execution_count": 133
        }
      ]
    },
    {
      "cell_type": "code",
      "metadata": {
        "trusted": true,
        "colab": {
          "base_uri": "https://localhost:8080/",
          "height": 437
        },
        "id": "Nf4FdFjFN7gS",
        "outputId": "60845d00-de24-46b1-ecab-77138b571555"
      },
      "source": [
        "byDate['twp'].plot(figsize=(12,6))\n",
        "plt.xticks(rotation=45)\n",
        "plt.tight_layout()"
      ],
      "execution_count": null,
      "outputs": [
        {
          "output_type": "display_data",
          "data": {
            "image/png": "[encoded data removed]",
            "text/plain": [
              "<Figure size 864x432 with 1 Axes>"
            ]
          },
          "metadata": {}
        }
      ]
    },
    {
      "cell_type": "markdown",
      "metadata": {
        "id": "RtoZqrdBN7gS"
      },
      "source": [
        "#### Now recreate this plot but create 3 separate plots with each plot representing a Reason for the 911 call"
      ]
    },
    {
      "cell_type": "code",
      "metadata": {
        "trusted": true,
        "colab": {
          "base_uri": "https://localhost:8080/",
          "height": 437
        },
        "id": "gPuqC0BZN7gS",
        "outputId": "9f24e160-f161-49b8-84cf-b683bb8d3301"
      },
      "source": [
        "data[data['reason_category']=='Traffic'].groupby('Date').count()['twp'].plot(figsize=(12,6))\n",
        "plt.title('Traffic')\n",
        "plt.tight_layout()"
      ],
      "execution_count": null,
      "outputs": [
        {
          "output_type": "display_data",
          "data": {
            "image/png": "[encoded data removed]",
            "text/plain": [
              "<Figure size 864x432 with 1 Axes>"
            ]
          },
          "metadata": {}
        }
      ]
    },
    {
      "cell_type": "code",
      "metadata": {
        "trusted": true,
        "colab": {
          "base_uri": "https://localhost:8080/",
          "height": 437
        },
        "id": "OZXJSWTIN7gT",
        "outputId": "a3b589a5-dc46-4c22-884e-7d9e9de0fa09"
      },
      "source": [
        "data[data['reason_category']=='Fire'].groupby('Date').count()['twp'].plot(figsize=(12,6))\n",
        "plt.title('Fire')\n",
        "plt.tight_layout()"
      ],
      "execution_count": null,
      "outputs": [
        {
          "output_type": "display_data",
          "data": {
            "image/png": "[encoded data removed]",
            "text/plain": [
              "<Figure size 864x432 with 1 Axes>"
            ]
          },
          "metadata": {}
        }
      ]
    },
    {
      "cell_type": "code",
      "metadata": {
        "trusted": true,
        "colab": {
          "base_uri": "https://localhost:8080/",
          "height": 437
        },
        "id": "K1kXu-48N7gT",
        "outputId": "1404813e-6e11-43bc-bdc1-0860ce790703"
      },
      "source": [
        "data[data['reason_category']=='EMS'].groupby('Date').count()['twp'].plot(figsize=(12,6))\n",
        "plt.title('EMS')\n",
        "plt.tight_layout()"
      ],
      "execution_count": null,
      "outputs": [
        {
          "output_type": "display_data",
          "data": {
            "image/png": "[encoded data removed]",
            "text/plain": [
              "<Figure size 864x432 with 1 Axes>"
            ]
          },
          "metadata": {}
        }
      ]
    },
    {
      "cell_type": "markdown",
      "metadata": {
        "id": "UGAhj80PN7gT"
      },
      "source": [
        "### Heatmap\n",
        "\n",
        "Now let's move on to creating  heatmaps with seaborn and our data. We'll first need to restructure the dataframe so that the columns become the Hours and the Index becomes the Day of the Week. I will do this by combine the groupby with an [unstack](http://pandas.pydata.org/pandas-docs/stable/generated/pandas.DataFrame.unstack.html) method."
      ]
    },
    {
      "cell_type": "code",
      "metadata": {
        "trusted": true,
        "colab": {
          "base_uri": "https://localhost:8080/",
          "height": 300
        },
        "id": "i_iCuKIUN7gT",
        "outputId": "c7dbf09a-522d-43e5-8fec-21f1f5190ed0"
      },
      "source": [
        "dayHour = data.groupby(['DayOfWeek','Hour']).count()['reason_category'].unstack()\n",
        "dayHour"
      ],
      "execution_count": null,
      "outputs": [
        {
          "output_type": "execute_result",
          "data": {
            "text/html": [
              "<div>\n",
              "<style scoped>\n",
              "    .dataframe tbody tr th:only-of-type {\n",
              "        vertical-align: middle;\n",
              "    }\n",
              "\n",
              "    .dataframe tbody tr th {\n",
              "        vertical-align: top;\n",
              "    }\n",
              "\n",
              "    .dataframe thead th {\n",
              "        text-align: right;\n",
              "    }\n",
              "</style>\n",
              "<table border=\"1\" class=\"dataframe\">\n",
              "  <thead>\n",
              "    <tr style=\"text-align: right;\">\n",
              "      <th>Hour</th>\n",
              "      <th>0</th>\n",
              "      <th>1</th>\n",
              "      <th>2</th>\n",
              "      <th>3</th>\n",
              "      <th>4</th>\n",
              "      <th>5</th>\n",
              "      <th>6</th>\n",
              "      <th>7</th>\n",
              "      <th>8</th>\n",
              "      <th>9</th>\n",
              "      <th>10</th>\n",
              "      <th>11</th>\n",
              "      <th>12</th>\n",
              "      <th>13</th>\n",
              "      <th>14</th>\n",
              "      <th>15</th>\n",
              "      <th>16</th>\n",
              "      <th>17</th>\n",
              "      <th>18</th>\n",
              "      <th>19</th>\n",
              "      <th>20</th>\n",
              "      <th>21</th>\n",
              "      <th>22</th>\n",
              "      <th>23</th>\n",
              "    </tr>\n",
              "    <tr>\n",
              "      <th>DayOfWeek</th>\n",
              "      <th></th>\n",
              "      <th></th>\n",
              "      <th></th>\n",
              "      <th></th>\n",
              "      <th></th>\n",
              "      <th></th>\n",
              "      <th></th>\n",
              "      <th></th>\n",
              "      <th></th>\n",
              "      <th></th>\n",
              "      <th></th>\n",
              "      <th></th>\n",
              "      <th></th>\n",
              "      <th></th>\n",
              "      <th></th>\n",
              "      <th></th>\n",
              "      <th></th>\n",
              "      <th></th>\n",
              "      <th></th>\n",
              "      <th></th>\n",
              "      <th></th>\n",
              "      <th></th>\n",
              "      <th></th>\n",
              "      <th></th>\n",
              "    </tr>\n",
              "  </thead>\n",
              "  <tbody>\n",
              "    <tr>\n",
              "      <th>Fri</th>\n",
              "      <td>1983</td>\n",
              "      <td>1635</td>\n",
              "      <td>1449</td>\n",
              "      <td>1296</td>\n",
              "      <td>1339</td>\n",
              "      <td>1639</td>\n",
              "      <td>2670</td>\n",
              "      <td>4143</td>\n",
              "      <td>5018</td>\n",
              "      <td>5288</td>\n",
              "      <td>5584</td>\n",
              "      <td>5843</td>\n",
              "      <td>5994</td>\n",
              "      <td>6181</td>\n",
              "      <td>6394</td>\n",
              "      <td>7040</td>\n",
              "      <td>7065</td>\n",
              "      <td>7113</td>\n",
              "      <td>5668</td>\n",
              "      <td>5056</td>\n",
              "      <td>4375</td>\n",
              "      <td>3913</td>\n",
              "      <td>3422</td>\n",
              "      <td>2834</td>\n",
              "    </tr>\n",
              "    <tr>\n",
              "      <th>Mon</th>\n",
              "      <td>1894</td>\n",
              "      <td>1571</td>\n",
              "      <td>1368</td>\n",
              "      <td>1272</td>\n",
              "      <td>1336</td>\n",
              "      <td>1844</td>\n",
              "      <td>2675</td>\n",
              "      <td>4430</td>\n",
              "      <td>5504</td>\n",
              "      <td>5724</td>\n",
              "      <td>5458</td>\n",
              "      <td>5632</td>\n",
              "      <td>5881</td>\n",
              "      <td>5664</td>\n",
              "      <td>5713</td>\n",
              "      <td>6289</td>\n",
              "      <td>6346</td>\n",
              "      <td>6408</td>\n",
              "      <td>5441</td>\n",
              "      <td>4488</td>\n",
              "      <td>3823</td>\n",
              "      <td>3254</td>\n",
              "      <td>2658</td>\n",
              "      <td>2072</td>\n",
              "    </tr>\n",
              "    <tr>\n",
              "      <th>Sat</th>\n",
              "      <td>2447</td>\n",
              "      <td>2059</td>\n",
              "      <td>1883</td>\n",
              "      <td>1592</td>\n",
              "      <td>1451</td>\n",
              "      <td>1580</td>\n",
              "      <td>1880</td>\n",
              "      <td>2489</td>\n",
              "      <td>3457</td>\n",
              "      <td>4315</td>\n",
              "      <td>4944</td>\n",
              "      <td>5450</td>\n",
              "      <td>5555</td>\n",
              "      <td>5378</td>\n",
              "      <td>5421</td>\n",
              "      <td>5181</td>\n",
              "      <td>5211</td>\n",
              "      <td>5213</td>\n",
              "      <td>4980</td>\n",
              "      <td>4753</td>\n",
              "      <td>4127</td>\n",
              "      <td>3895</td>\n",
              "      <td>3226</td>\n",
              "      <td>2965</td>\n",
              "    </tr>\n",
              "    <tr>\n",
              "      <th>Sun</th>\n",
              "      <td>2424</td>\n",
              "      <td>2135</td>\n",
              "      <td>1946</td>\n",
              "      <td>1614</td>\n",
              "      <td>1471</td>\n",
              "      <td>1488</td>\n",
              "      <td>1726</td>\n",
              "      <td>2408</td>\n",
              "      <td>3001</td>\n",
              "      <td>3728</td>\n",
              "      <td>4262</td>\n",
              "      <td>4438</td>\n",
              "      <td>4882</td>\n",
              "      <td>4654</td>\n",
              "      <td>4744</td>\n",
              "      <td>4475</td>\n",
              "      <td>4560</td>\n",
              "      <td>4505</td>\n",
              "      <td>4402</td>\n",
              "      <td>4135</td>\n",
              "      <td>3748</td>\n",
              "      <td>3161</td>\n",
              "      <td>2629</td>\n",
              "      <td>2323</td>\n",
              "    </tr>\n",
              "    <tr>\n",
              "      <th>Thu</th>\n",
              "      <td>1731</td>\n",
              "      <td>1408</td>\n",
              "      <td>1426</td>\n",
              "      <td>1236</td>\n",
              "      <td>1293</td>\n",
              "      <td>1775</td>\n",
              "      <td>2816</td>\n",
              "      <td>4432</td>\n",
              "      <td>5297</td>\n",
              "      <td>5412</td>\n",
              "      <td>5464</td>\n",
              "      <td>5492</td>\n",
              "      <td>5898</td>\n",
              "      <td>6173</td>\n",
              "      <td>6079</td>\n",
              "      <td>6493</td>\n",
              "      <td>6375</td>\n",
              "      <td>6935</td>\n",
              "      <td>5512</td>\n",
              "      <td>4703</td>\n",
              "      <td>4045</td>\n",
              "      <td>3490</td>\n",
              "      <td>2844</td>\n",
              "      <td>2354</td>\n",
              "    </tr>\n",
              "    <tr>\n",
              "      <th>Tue</th>\n",
              "      <td>1720</td>\n",
              "      <td>1459</td>\n",
              "      <td>1322</td>\n",
              "      <td>1213</td>\n",
              "      <td>1247</td>\n",
              "      <td>1741</td>\n",
              "      <td>2784</td>\n",
              "      <td>4425</td>\n",
              "      <td>5634</td>\n",
              "      <td>5566</td>\n",
              "      <td>5498</td>\n",
              "      <td>5582</td>\n",
              "      <td>5795</td>\n",
              "      <td>5794</td>\n",
              "      <td>5926</td>\n",
              "      <td>6252</td>\n",
              "      <td>6495</td>\n",
              "      <td>6883</td>\n",
              "      <td>5628</td>\n",
              "      <td>4621</td>\n",
              "      <td>3845</td>\n",
              "      <td>3409</td>\n",
              "      <td>2708</td>\n",
              "      <td>2137</td>\n",
              "    </tr>\n",
              "    <tr>\n",
              "      <th>Wed</th>\n",
              "      <td>1664</td>\n",
              "      <td>1484</td>\n",
              "      <td>1259</td>\n",
              "      <td>1265</td>\n",
              "      <td>1128</td>\n",
              "      <td>1609</td>\n",
              "      <td>2668</td>\n",
              "      <td>4644</td>\n",
              "      <td>5469</td>\n",
              "      <td>5444</td>\n",
              "      <td>5367</td>\n",
              "      <td>5639</td>\n",
              "      <td>6092</td>\n",
              "      <td>5953</td>\n",
              "      <td>6069</td>\n",
              "      <td>6533</td>\n",
              "      <td>6745</td>\n",
              "      <td>7062</td>\n",
              "      <td>5691</td>\n",
              "      <td>4686</td>\n",
              "      <td>4116</td>\n",
              "      <td>3537</td>\n",
              "      <td>2826</td>\n",
              "      <td>2207</td>\n",
              "    </tr>\n",
              "  </tbody>\n",
              "</table>\n",
              "</div>"
            ],
            "text/plain": [
              "Hour          0     1     2     3     4  ...    19    20    21    22    23\n",
              "DayOfWeek                                ...                              \n",
              "Fri        1983  1635  1449  1296  1339  ...  5056  4375  3913  3422  2834\n",
              "Mon        1894  1571  1368  1272  1336  ...  4488  3823  3254  2658  2072\n",
              "Sat        2447  2059  1883  1592  1451  ...  4753  4127  3895  3226  2965\n",
              "Sun        2424  2135  1946  1614  1471  ...  4135  3748  3161  2629  2323\n",
              "Thu        1731  1408  1426  1236  1293  ...  4703  4045  3490  2844  2354\n",
              "Tue        1720  1459  1322  1213  1247  ...  4621  3845  3409  2708  2137\n",
              "Wed        1664  1484  1259  1265  1128  ...  4686  4116  3537  2826  2207\n",
              "\n",
              "[7 rows x 24 columns]"
            ]
          },
          "metadata": {},
          "execution_count": 138
        }
      ]
    },
    {
      "cell_type": "code",
      "metadata": {
        "trusted": true,
        "colab": {
          "base_uri": "https://localhost:8080/",
          "height": 412
        },
        "id": "jSZq9addN7gT",
        "outputId": "82f7a788-0cfa-4f3a-daec-e117dbab36a0"
      },
      "source": [
        "plt.figure(figsize=(12,6))\n",
        "sns.heatmap(dayHour,cmap='viridis',linewidths=.1)"
      ],
      "execution_count": null,
      "outputs": [
        {
          "output_type": "execute_result",
          "data": {
            "text/plain": [
              "<matplotlib.axes._subplots.AxesSubplot at 0x7f78fa3b0b10>"
            ]
          },
          "metadata": {},
          "execution_count": 139
        },
        {
          "output_type": "display_data",
          "data": {
            "image/png": "[encoded data removed]",
            "text/plain": [
              "<Figure size 864x432 with 2 Axes>"
            ]
          },
          "metadata": {}
        }
      ]
    },
    {
      "cell_type": "markdown",
      "metadata": {
        "id": "sruQhF4zN7gT"
      },
      "source": [
        "\n",
        "Above tells that less emergency service required at night or early morning,while more at evening time and that is even more on Friday. \n",
        "\n",
        "Now lets create the cluster graph to check it more precisely."
      ]
    },
    {
      "cell_type": "markdown",
      "metadata": {
        "id": "VGH5AXFnN7gT"
      },
      "source": [
        "#### Now create a clustermap using this DataFrame."
      ]
    },
    {
      "cell_type": "code",
      "metadata": {
        "trusted": true,
        "colab": {
          "base_uri": "https://localhost:8080/",
          "height": 762
        },
        "id": "dee-gqwzN7gT",
        "outputId": "8abe994f-b91e-401e-fd01-20898bf1583e"
      },
      "source": [
        "plt.figure(figsize=(12,6))\n",
        "sns.clustermap(dayHour,cmap='viridis',linewidths=.1)"
      ],
      "execution_count": null,
      "outputs": [
        {
          "output_type": "execute_result",
          "data": {
            "text/plain": [
              "<seaborn.matrix.ClusterGrid at 0x7f78fa42a790>"
            ]
          },
          "metadata": {},
          "execution_count": 140
        },
        {
          "output_type": "display_data",
          "data": {
            "text/plain": [
              "<Figure size 864x432 with 0 Axes>"
            ]
          },
          "metadata": {}
        },
        {
          "output_type": "display_data",
          "data": {
            "image/png": "[encoded data removed]",
            "text/plain": [
              "<Figure size 720x720 with 4 Axes>"
            ]
          },
          "metadata": {}
        }
      ]
    },
    {
      "cell_type": "markdown",
      "metadata": {
        "id": "4w85bEcnN7gT"
      },
      "source": [
        "#### Now repeat these same plots and operations, for a DataFrame that shows the Month as the column."
      ]
    },
    {
      "cell_type": "code",
      "metadata": {
        "trusted": true,
        "colab": {
          "base_uri": "https://localhost:8080/",
          "height": 300
        },
        "id": "3wZ2UmK8N7gT",
        "outputId": "23366dd9-6068-4568-dd5b-10b31223148f"
      },
      "source": [
        "dayMonth = data.groupby(by=['DayOfWeek','Month']).count()['reason_category'].unstack()\n",
        "dayMonth"
      ],
      "execution_count": null,
      "outputs": [
        {
          "output_type": "execute_result",
          "data": {
            "text/html": [
              "<div>\n",
              "<style scoped>\n",
              "    .dataframe tbody tr th:only-of-type {\n",
              "        vertical-align: middle;\n",
              "    }\n",
              "\n",
              "    .dataframe tbody tr th {\n",
              "        vertical-align: top;\n",
              "    }\n",
              "\n",
              "    .dataframe thead th {\n",
              "        text-align: right;\n",
              "    }\n",
              "</style>\n",
              "<table border=\"1\" class=\"dataframe\">\n",
              "  <thead>\n",
              "    <tr style=\"text-align: right;\">\n",
              "      <th>Month</th>\n",
              "      <th>1</th>\n",
              "      <th>2</th>\n",
              "      <th>3</th>\n",
              "      <th>4</th>\n",
              "      <th>5</th>\n",
              "      <th>6</th>\n",
              "      <th>7</th>\n",
              "      <th>8</th>\n",
              "      <th>9</th>\n",
              "      <th>10</th>\n",
              "      <th>11</th>\n",
              "      <th>12</th>\n",
              "    </tr>\n",
              "    <tr>\n",
              "      <th>DayOfWeek</th>\n",
              "      <th></th>\n",
              "      <th></th>\n",
              "      <th></th>\n",
              "      <th></th>\n",
              "      <th></th>\n",
              "      <th></th>\n",
              "      <th></th>\n",
              "      <th></th>\n",
              "      <th></th>\n",
              "      <th></th>\n",
              "      <th></th>\n",
              "      <th></th>\n",
              "    </tr>\n",
              "  </thead>\n",
              "  <tbody>\n",
              "    <tr>\n",
              "      <th>Fri</th>\n",
              "      <td>9309</td>\n",
              "      <td>8255</td>\n",
              "      <td>10941</td>\n",
              "      <td>7997</td>\n",
              "      <td>8904</td>\n",
              "      <td>9207</td>\n",
              "      <td>8681</td>\n",
              "      <td>7336</td>\n",
              "      <td>7694</td>\n",
              "      <td>6934</td>\n",
              "      <td>8379</td>\n",
              "      <td>9305</td>\n",
              "    </tr>\n",
              "    <tr>\n",
              "      <th>Mon</th>\n",
              "      <td>8896</td>\n",
              "      <td>8747</td>\n",
              "      <td>8060</td>\n",
              "      <td>8410</td>\n",
              "      <td>7881</td>\n",
              "      <td>8511</td>\n",
              "      <td>9499</td>\n",
              "      <td>6854</td>\n",
              "      <td>6598</td>\n",
              "      <td>8075</td>\n",
              "      <td>6722</td>\n",
              "      <td>8492</td>\n",
              "    </tr>\n",
              "    <tr>\n",
              "      <th>Sat</th>\n",
              "      <td>8475</td>\n",
              "      <td>7593</td>\n",
              "      <td>8050</td>\n",
              "      <td>7514</td>\n",
              "      <td>7223</td>\n",
              "      <td>8198</td>\n",
              "      <td>7748</td>\n",
              "      <td>6111</td>\n",
              "      <td>6566</td>\n",
              "      <td>6609</td>\n",
              "      <td>6773</td>\n",
              "      <td>8592</td>\n",
              "    </tr>\n",
              "    <tr>\n",
              "      <th>Sun</th>\n",
              "      <td>7478</td>\n",
              "      <td>6452</td>\n",
              "      <td>6766</td>\n",
              "      <td>6865</td>\n",
              "      <td>6694</td>\n",
              "      <td>6837</td>\n",
              "      <td>7859</td>\n",
              "      <td>5275</td>\n",
              "      <td>5956</td>\n",
              "      <td>6316</td>\n",
              "      <td>5196</td>\n",
              "      <td>7165</td>\n",
              "    </tr>\n",
              "    <tr>\n",
              "      <th>Thu</th>\n",
              "      <td>9055</td>\n",
              "      <td>7997</td>\n",
              "      <td>8849</td>\n",
              "      <td>7722</td>\n",
              "      <td>8740</td>\n",
              "      <td>9489</td>\n",
              "      <td>8378</td>\n",
              "      <td>7508</td>\n",
              "      <td>6954</td>\n",
              "      <td>7482</td>\n",
              "      <td>8358</td>\n",
              "      <td>8151</td>\n",
              "    </tr>\n",
              "    <tr>\n",
              "      <th>Tue</th>\n",
              "      <td>9714</td>\n",
              "      <td>8087</td>\n",
              "      <td>8372</td>\n",
              "      <td>7561</td>\n",
              "      <td>9026</td>\n",
              "      <td>8349</td>\n",
              "      <td>9086</td>\n",
              "      <td>7291</td>\n",
              "      <td>6601</td>\n",
              "      <td>7948</td>\n",
              "      <td>7344</td>\n",
              "      <td>8305</td>\n",
              "    </tr>\n",
              "    <tr>\n",
              "      <th>Wed</th>\n",
              "      <td>9409</td>\n",
              "      <td>8296</td>\n",
              "      <td>8989</td>\n",
              "      <td>7602</td>\n",
              "      <td>9041</td>\n",
              "      <td>9443</td>\n",
              "      <td>8581</td>\n",
              "      <td>7984</td>\n",
              "      <td>6844</td>\n",
              "      <td>7876</td>\n",
              "      <td>7410</td>\n",
              "      <td>7682</td>\n",
              "    </tr>\n",
              "  </tbody>\n",
              "</table>\n",
              "</div>"
            ],
            "text/plain": [
              "Month         1     2      3     4     5  ...     8     9    10    11    12\n",
              "DayOfWeek                                 ...                              \n",
              "Fri        9309  8255  10941  7997  8904  ...  7336  7694  6934  8379  9305\n",
              "Mon        8896  8747  8060   8410  7881  ...  6854  6598  8075  6722  8492\n",
              "Sat        8475  7593  8050   7514  7223  ...  6111  6566  6609  6773  8592\n",
              "Sun        7478  6452  6766   6865  6694  ...  5275  5956  6316  5196  7165\n",
              "Thu        9055  7997  8849   7722  8740  ...  7508  6954  7482  8358  8151\n",
              "Tue        9714  8087  8372   7561  9026  ...  7291  6601  7948  7344  8305\n",
              "Wed        9409  8296  8989   7602  9041  ...  7984  6844  7876  7410  7682\n",
              "\n",
              "[7 rows x 12 columns]"
            ]
          },
          "metadata": {},
          "execution_count": 141
        }
      ]
    },
    {
      "cell_type": "code",
      "metadata": {
        "trusted": true,
        "colab": {
          "base_uri": "https://localhost:8080/",
          "height": 412
        },
        "id": "F44X4tFuN7gU",
        "outputId": "a9d189f6-7376-4004-c70f-095117db98d6"
      },
      "source": [
        "plt.figure(figsize=(12,6))\n",
        "sns.heatmap(dayMonth,cmap='viridis',linewidths=.1)"
      ],
      "execution_count": null,
      "outputs": [
        {
          "output_type": "execute_result",
          "data": {
            "text/plain": [
              "<matplotlib.axes._subplots.AxesSubplot at 0x7f78fa277310>"
            ]
          },
          "metadata": {},
          "execution_count": 142
        },
        {
          "output_type": "display_data",
          "data": {
            "image/png": "[encoded data removed]",
            "text/plain": [
              "<Figure size 864x432 with 2 Axes>"
            ]
          },
          "metadata": {}
        }
      ]
    },
    {
      "cell_type": "markdown",
      "metadata": {
        "id": "Vs53W3q6N7gU"
      },
      "source": [
        "\n",
        "\n",
        "People called for emergency services more on Friday's of March month. "
      ]
    },
    {
      "cell_type": "code",
      "metadata": {
        "trusted": true,
        "colab": {
          "base_uri": "https://localhost:8080/",
          "height": 762
        },
        "id": "XiEsX-7xN7gU",
        "outputId": "ddc9eaad-c0eb-4423-b75c-06859c0a3223"
      },
      "source": [
        "plt.figure(figsize=(12,6))\n",
        "sns.clustermap(dayMonth,cmap='viridis',linewidths=.1)"
      ],
      "execution_count": null,
      "outputs": [
        {
          "output_type": "execute_result",
          "data": {
            "text/plain": [
              "<seaborn.matrix.ClusterGrid at 0x7f78fa2ca6d0>"
            ]
          },
          "metadata": {},
          "execution_count": 143
        },
        {
          "output_type": "display_data",
          "data": {
            "text/plain": [
              "<Figure size 864x432 with 0 Axes>"
            ]
          },
          "metadata": {}
        },
        {
          "output_type": "display_data",
          "data": {
            "image/png": "[encoded data removed]",
            "text/plain": [
              "<Figure size 720x720 with 4 Axes>"
            ]
          },
          "metadata": {}
        }
      ]
    },
    {
      "cell_type": "markdown",
      "metadata": {
        "id": "0ZGuNw2vN7gU"
      },
      "source": [
        "This cluster graph gives us more precise information now.\n",
        "* So less emergency service required on Wednesday's of July month.\n",
        "* People called for emergency services more on Friday's of March month. "
      ]
    },
    {
      "cell_type": "markdown",
      "metadata": {
        "id": "0GprNvl_Xw0d"
      },
      "source": [
        ""
      ]
    },
    {
      "cell_type": "markdown",
      "metadata": {
        "id": "G9k4vPkAN7gQ"
      },
      "source": [
        "# **Que-1**\n",
        "\n",
        "why maximum number of emergency calls happend at round 5Pm only and what kind of emergency is required at this time."
      ]
    },
    {
      "cell_type": "code",
      "metadata": {
        "trusted": true,
        "colab": {
          "base_uri": "https://localhost:8080/",
          "height": 536
        },
        "id": "djmvtFftN7gR",
        "outputId": "c3fc0c89-1849-4502-f34d-792318f87418"
      },
      "source": [
        "plt.figure(figsize=(15,8))\n",
        "sns.countplot(x=data['Hour'],data=data,hue=data['reason_category'],palette='winter')\n",
        "plt.title(\"Emergency call hour wise groupby category\")\n",
        "#plt.legend(loc=2, bbox_to_anchor=(1.05, 1))"
      ],
      "execution_count": null,
      "outputs": [
        {
          "output_type": "execute_result",
          "data": {
            "text/plain": [
              "Text(0.5, 1.0, 'Emergency call hour wise groupby category')"
            ]
          },
          "metadata": {},
          "execution_count": 126
        },
        {
          "output_type": "display_data",
          "data": {
            "image/png": "[encoded data removed]",
            "text/plain": [
              "<Figure size 1080x576 with 1 Axes>"
            ]
          },
          "metadata": {}
        }
      ]
    },
    {
      "cell_type": "markdown",
      "metadata": {
        "id": "IhKL4qtBN7gR"
      },
      "source": [
        "\n",
        "\n",
        "* Now by seeing the above graph, it clear that people require maximum number of emergency service due to traffic related problem. This is may be due to people return home from their work place at this time and may find traffic jams, accidents due to signal jumping, rashin driving etc."
      ]
    },
    {
      "cell_type": "markdown",
      "metadata": {
        "id": "M86u-857YVW2"
      },
      "source": [
        "# **Que - 2**\n",
        "\n",
        "In which year higest emergency  service required  for EMS and less for fire"
      ]
    },
    {
      "cell_type": "code",
      "metadata": {
        "trusted": true,
        "colab": {
          "base_uri": "https://localhost:8080/",
          "height": 428
        },
        "id": "8mihTN_-N7gQ",
        "outputId": "b68fa1db-60c3-41b1-aaec-5da9625e9748"
      },
      "source": [
        "plt.figure(figsize=(12,6))\n",
        "sns.countplot(x=data['reason_category'],data=data,hue=data['Year'],palette='bright')\n",
        "plt.title(\"Emergency call category groupby year\")\n",
        "plt.legend(loc=2, bbox_to_anchor=(1.05, 1))"
      ],
      "execution_count": null,
      "outputs": [
        {
          "output_type": "execute_result",
          "data": {
            "text/plain": [
              "<matplotlib.legend.Legend at 0x7f790e32d290>"
            ]
          },
          "metadata": {},
          "execution_count": 122
        },
        {
          "output_type": "display_data",
          "data": {
            "image/png": "[encoded data removed]",
            "text/plain": [
              "<Figure size 864x432 with 1 Axes>"
            ]
          },
          "metadata": {}
        }
      ]
    },
    {
      "cell_type": "markdown",
      "metadata": {
        "id": "BmGNVhKWN7gQ"
      },
      "source": [
        "\n",
        "\n",
        "* Highest emergency service required in the year 2019 for EMS and less for fire."
      ]
    },
    {
      "cell_type": "markdown",
      "metadata": {
        "id": "B0vTapgbZGZ1"
      },
      "source": [
        "# **Que-3**\n",
        "Which township require to improve road conditions and medical facilities?"
      ]
    },
    {
      "cell_type": "code",
      "metadata": {
        "trusted": true,
        "colab": {
          "base_uri": "https://localhost:8080/"
        },
        "id": "Hl1MLfCZN7gN",
        "outputId": "21a51217-461a-4267-854c-3765fb8ec121"
      },
      "source": [
        "data[data['twp']=='LOWER MERION']['reason_category'].value_counts()"
      ],
      "execution_count": null,
      "outputs": [
        {
          "output_type": "execute_result",
          "data": {
            "text/plain": [
              "Traffic    23758\n",
              "EMS        21578\n",
              "Fire       10154\n",
              "Name: reason_category, dtype: int64"
            ]
          },
          "metadata": {},
          "execution_count": 105
        }
      ]
    },
    {
      "cell_type": "code",
      "metadata": {
        "trusted": true,
        "colab": {
          "base_uri": "https://localhost:8080/"
        },
        "id": "7BA-QPomN7gN",
        "outputId": "3e1c55ad-3567-4fe2-9447-2e8f2cbc0300"
      },
      "source": [
        "data[data['twp']=='LOWER MERION']['reason'].value_counts().head(10)"
      ],
      "execution_count": null,
      "outputs": [
        {
          "output_type": "execute_result",
          "data": {
            "text/plain": [
              " VEHICLE ACCIDENT -       14613\n",
              " FIRE ALARM               5105 \n",
              " DISABLED VEHICLE -       5010 \n",
              " VEHICLE ACCIDENT         3365 \n",
              " ROAD OBSTRUCTION -       2838 \n",
              " FALL VICTIM              2120 \n",
              " RESPIRATORY EMERGENCY    1879 \n",
              " CARDIAC EMERGENCY        1827 \n",
              " HEAD INJURY              1374 \n",
              " SUBJECT IN PAIN          1180 \n",
              "Name: reason, dtype: int64"
            ]
          },
          "metadata": {},
          "execution_count": 106
        }
      ]
    },
    {
      "cell_type": "markdown",
      "metadata": {
        "id": "FzE3AbqhN7gN"
      },
      "source": [
        "\n",
        "\n",
        "* This area has a high demand for emergency related to traffic and EMS (Emergency Medical Services). So might be this township require to improve road conditions and medical facilities."
      ]
    },
    {
      "cell_type": "markdown",
      "metadata": {
        "id": "d2vp-A-PN7gP"
      },
      "source": [
        "# **Que-4**\n",
        "Which is the  Most busy year with total number of calls recieved:"
      ]
    },
    {
      "cell_type": "code",
      "metadata": {
        "trusted": true,
        "colab": {
          "base_uri": "https://localhost:8080/"
        },
        "id": "EB1S50zRN7gP",
        "outputId": "8ce1cd8c-8920-403a-9e45-04fc29c5facd"
      },
      "source": [
        "data[\"Year\"].value_counts().head(1)"
      ],
      "execution_count": null,
      "outputs": [
        {
          "output_type": "execute_result",
          "data": {
            "text/plain": [
              "2018    151527\n",
              "Name: Year, dtype: int64"
            ]
          },
          "metadata": {},
          "execution_count": 118
        }
      ]
    },
    {
      "cell_type": "markdown",
      "metadata": {
        "id": "1RNbU-E2N7gP"
      },
      "source": [
        "# **Que - 5**\n",
        "what are  the Most common Reason for a 911 call "
      ]
    },
    {
      "cell_type": "code",
      "metadata": {
        "trusted": true,
        "colab": {
          "base_uri": "https://localhost:8080/"
        },
        "id": "RVOOdsFgN7gP",
        "outputId": "f881eb59-9cc0-4681-9c44-4388b19c6fdc"
      },
      "source": [
        "data['reason_category'].value_counts().head(5)"
      ],
      "execution_count": null,
      "outputs": [
        {
          "output_type": "execute_result",
          "data": {
            "text/plain": [
              "EMS        332692\n",
              "Traffic    230208\n",
              "Fire       100622\n",
              "Name: reason_category, dtype: int64"
            ]
          },
          "metadata": {},
          "execution_count": 119
        }
      ]
    },
    {
      "cell_type": "markdown",
      "metadata": {
        "id": "UCe_IS-iN7gA"
      },
      "source": [
        "# Summary"
      ]
    },
    {
      "cell_type": "markdown",
      "metadata": {
        "id": "yEFRcpc4N7gA"
      },
      "source": [
        "\n",
        "Analysing emergency calls dataset and discovering hidden trends and patterns will help in ensuring that the emergency response team is better equipped to deal with emergencies.\n",
        "Considering road accidents, fire accidents etc, high numbers in specific areas indicate that there is a high demand for ambulance services in those areas. Road accidents in some areas might be due to road conditions which need to be improved. High frequency of emergencies due to respiratory problems might be due to harmful pollutants in the air in that specific area. Association rule mining will thus help in discovering such patterns.\n",
        "\n",
        "due to the analysis  dataset  it can be help in future  to take precuation and and develop the medical services to decrease the death and get treatment on time\n",
        "\n",
        "we can use this data and many other data set related to accidents and nature of accident we can create a app to create a ambulance services which have special equipment for a perticular type of accidents so the geat treatmnet on the spot"
      ]
    }
  ]
}